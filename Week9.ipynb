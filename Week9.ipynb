{
 "cells": [
  {
   "cell_type": "code",
   "execution_count": 51,
   "id": "48059a80",
   "metadata": {},
   "outputs": [],
   "source": [
    "import matplotlib.pyplot as plt\n",
    "%matplotlib inline\n",
    "import numpy as np\n",
    "import pandas as pd\n",
    "from sklearn import datasets, linear_model\n",
    "from sklearn.model_selection import train_test_split\n",
    "from sklearn.metrics import mean_absolute_error\n",
    "from sklearn.metrics import mean_squared_error\n",
    "from sklearn.metrics import median_absolute_error\n",
    "from sklearn.model_selection import LeaveOneOut,cross_val_score\n",
    "from sklearn.preprocessing import PolynomialFeatures\n",
    "from sklearn.linear_model import LinearRegression\n",
    "from sklearn.metrics import r2_score\n",
    "import seaborn as sns\n",
    "from sklearn.kernel_approximation import PolynomialCountSketch\n",
    "from sklearn.linear_model import Lasso\n",
    "from sklearn.linear_model import ElasticNet\n",
    "from sklearn.decomposition import PCA\n",
    "from mlxtend.feature_selection import SequentialFeatureSelector as sfs\n",
    "import pandas as pd\n",
    "import numpy as np\n",
    "import matplotlib.pyplot as plt\n",
    "import seaborn as sns\n",
    "import statsmodels.formula.api as smf\n",
    "import statsmodels.api as sm\n",
    "from statsmodels.graphics.regressionplots import influence_plot"
   ]
  },
  {
   "cell_type": "code",
   "execution_count": 5,
   "id": "a2efd20d",
   "metadata": {},
   "outputs": [],
   "source": [
    "#generate and filter the data\n",
    "data = pd.read_csv('new_data.csv')\n",
    "data['Sex'] = data['Sex'].replace('M',1)\n",
    "data['Sex'] = data['Sex'].replace('F',0)\n",
    "data['Side'] = data['Side'].replace('L',0)\n",
    "data['Side'] = data['Side'].replace('R',1)\n",
    "X = data[['Age','Sex','BMI','GX AT VO2 (mL/kg/min)','GX AT VE/VCO2','GX VO2 Max VO2 (mL/kg/min)','GX VO2 Max VO2/Pred (%)','GX VO2 Max VO2/HR (mL/beat)','GX Predicted VO2/HR (mL/beat)','GX Work Max Work (Watts)','GX Predicted Work (Watts)','PF Pre FEV1/FVC (%)','PF Pre FEV1 (L)','Side','pred mort','LOS']]\n",
    "X = X.dropna(axis=0)\n",
    "\n",
    "# #separate X,y\n",
    "# X1 = X[['Age','Sex','BMI','GX AT VO2 (mL/kg/min)','GX AT VE/VCO2','GX VO2 Max VO2 (mL/kg/min)','GX VO2 Max VO2/Pred (%)','GX VO2 Max VO2/HR (mL/beat)','GX Predicted VO2/HR (mL/beat)','GX Work Max Work (Watts)','GX Predicted Work (Watts)','PF Pre FEV1/FVC (%)','PF Pre FEV1 (L)','Side','pred mort']]\n",
    "# y = X[['LOS']]"
   ]
  },
  {
   "cell_type": "code",
   "execution_count": 6,
   "id": "e0f1b4bd",
   "metadata": {},
   "outputs": [],
   "source": [
    "X2 = X[['Age','Sex','BMI','GX AT VO2 (mL/kg/min)','GX AT VE/VCO2','GX VO2 Max VO2 (mL/kg/min)','GX VO2 Max VO2/Pred (%)','GX VO2 Max VO2/HR (mL/beat)','GX Predicted VO2/HR (mL/beat)','GX Work Max Work (Watts)','GX Predicted Work (Watts)','PF Pre FEV1/FVC (%)','PF Pre FEV1 (L)','Side','pred mort','LOS']]"
   ]
  },
  {
   "cell_type": "code",
   "execution_count": 7,
   "id": "0a83d674",
   "metadata": {},
   "outputs": [
    {
     "data": {
      "text/plain": [
       "(222, 16)"
      ]
     },
     "execution_count": 7,
     "metadata": {},
     "output_type": "execute_result"
    }
   ],
   "source": [
    "X2\n",
    "X2=X2.rename(columns= {\"GX VO2 Max VO2 (mL/kg/min)\":'G2',\"GX AT VO2 (mL/kg/min)\" : \"G0\", \"GX AT VE/VCO2\" : \"G1\",\n",
    "                        'GX VO2 Max VO2/Pred (%)' : 'G3','GX VO2 Max VO2/HR (mL/beat)':'G4','GX Predicted VO2/HR (mL/beat)':'G5','GX Work Max Work (Watts)':'G6','GX Predicted Work (Watts)':'G7','PF Pre FEV1/FVC (%)':'G8','PF Pre FEV1 (L)':'G9', 'pred mort' : 'predmort'})\n",
    "X2.shape"
   ]
  },
  {
   "cell_type": "code",
   "execution_count": 8,
   "id": "fc947c97",
   "metadata": {},
   "outputs": [
    {
     "data": {
      "text/plain": [
       "(186, 16)"
      ]
     },
     "execution_count": 8,
     "metadata": {},
     "output_type": "execute_result"
    }
   ],
   "source": [
    "X2 = X2.drop(X2[(X2['G8'] == 0.0)|(X2['G9'] == 0.0)].index)\n",
    "X2.shape"
   ]
  },
  {
   "cell_type": "code",
   "execution_count": 10,
   "id": "c9771519",
   "metadata": {},
   "outputs": [],
   "source": [
    "X_value = X2[['Age','Sex','BMI','G0','G1','G2','G3','G4','G5','G6','G7','G8','G9','Side','predmort']]\n",
    "y_value = X2[['LOS']]"
   ]
  },
  {
   "cell_type": "code",
   "execution_count": 12,
   "id": "aa656954",
   "metadata": {},
   "outputs": [
    {
     "data": {
      "image/png": "[encoded data removed]",
      "text/plain": [
       "<Figure size 640x480 with 1 Axes>"
      ]
     },
     "metadata": {},
     "output_type": "display_data"
    }
   ],
   "source": [
    "x_data = ('MAE','MSE','Median AE','s.d','R2 score')\n",
    "y_data = [MAE,MSE,Median,SD,r2]\n",
    "color = 'coral'\n",
    "bar = plt.bar(x_data,y_data,0.3,color=color,edgecolor ='grey')\n",
    "plt.bar_label(bar, label_type='edge');"
   ]
  },
  {
   "cell_type": "code",
   "execution_count": 52,
   "id": "3b9ce0b7",
   "metadata": {},
   "outputs": [
    {
     "name": "stdout",
     "output_type": "stream",
     "text": [
      "Leave one out validation\n",
      "MAE of the model is 4.411971219452367\n",
      "MSE of the model is 46.06024727998732\n",
      "Median absolute error of the model is 3.010265209459232\n",
      "Standard Deviation of the model is 2.115734429391272\n",
      "R2 score of the model is -0.08603739545891376\n"
     ]
    }
   ],
   "source": [
    "loo = LeaveOneOut()\n",
    "reg = LinearRegression()\n",
    "sc = StandardScaler()\n",
    "y = np.array(y_value)\n",
    "X1 = np.array(X_value)\n",
    "X1 = sc.fit_transform(X1)\n",
    "mean_ab_error = []\n",
    "mean_sq_error = []\n",
    "median_error = []\n",
    "pred = []\n",
    "y_true = []\n",
    "for train_index, test_index in loo.split(X1):\n",
    "    X_train, X_test = X1[train_index], X1[test_index]\n",
    "    y_train, y_test = y[train_index], y[test_index]\n",
    "    y_test = np.array(y_test)\n",
    "    y_train = np.array(y_train)\n",
    "    \n",
    "    reg.fit(X_train,y_train)\n",
    "    \n",
    "    predict_data = reg.predict(X_test)\n",
    "    pred.append(predict_data)\n",
    "    y_true.append(y_test)\n",
    "    \n",
    "    mean_ab_error.append(mean_absolute_error(y_test,predict_data))\n",
    "    mean_sq_error.append(mean_squared_error(y_test,predict_data))\n",
    "    median_error.append(median_absolute_error(y_test,predict_data))\n",
    "\n",
    "print(\"Leave one out validation\")\n",
    "MAE = np.sum(np.array(mean_ab_error)) / len(mean_ab_error)\n",
    "print(f\"MAE of the model is {MAE}\")\n",
    "MSE = np.sum(np.array(mean_sq_error)) / len(mean_sq_error)\n",
    "print(f\"MSE of the model is {MSE}\")\n",
    "Median = np.median(np.array(median_error))\n",
    "print(f\"Median absolute error of the model is {Median}\")\n",
    "SD = np.std(pred)\n",
    "print(f\"Standard Deviation of the model is {SD}\")\n",
    "# r2 = r2_score(y_true,pred)\n",
    "# print(f\"R2 score of the model is {r2}\")\n",
    "y_new = np.array(y_true).reshape(-1)\n",
    "pred_new = np.array(pred).reshape(-1)\n",
    "r2 = r2_score(y_new,pred_new)\n",
    "print(f\"R2 score of the model is {r2}\")"
   ]
  },
  {
   "cell_type": "code",
   "execution_count": 13,
   "id": "e550fd43",
   "metadata": {},
   "outputs": [
    {
     "name": "stdout",
     "output_type": "stream",
     "text": [
      "Leave one out validation\n",
      "MAE of the model is 4.403257119501243\n",
      "MSE of the model is 45.92315527376255\n",
      "Median absolute error of the model is 2.9922339065115584\n",
      "Standard Deviation of the model is 2.0935780300818374\n",
      "R2 score of the model is -0.08280495416363509\n"
     ]
    }
   ],
   "source": [
    "loo = LeaveOneOut()\n",
    "reg = linear_model.Ridge(alpha=1.0)\n",
    "sc = StandardScaler()\n",
    "y = np.array(y_value)\n",
    "X1 = np.array(X_value)\n",
    "X1 = sc.fit_transform(X1)\n",
    "mean_ab_error = []\n",
    "mean_sq_error = []\n",
    "median_error = []\n",
    "pred = []\n",
    "y_true = []\n",
    "for train_index, test_index in loo.split(X1):\n",
    "    X_train, X_test = X1[train_index], X1[test_index]\n",
    "    y_train, y_test = y[train_index], y[test_index]\n",
    "    y_test = np.array(y_test)\n",
    "    y_train = np.array(y_train)\n",
    "    \n",
    "    reg.fit(X_train,y_train)\n",
    "    \n",
    "    predict_data = reg.predict(X_test)\n",
    "    pred.append(predict_data)\n",
    "    y_true.append(y_test)\n",
    "    \n",
    "    mean_ab_error.append(mean_absolute_error(y_test,predict_data))\n",
    "    mean_sq_error.append(mean_squared_error(y_test,predict_data))\n",
    "    median_error.append(median_absolute_error(y_test,predict_data))\n",
    "\n",
    "print(\"Leave one out validation\")\n",
    "MAE = np.sum(np.array(mean_ab_error)) / len(mean_ab_error)\n",
    "print(f\"MAE of the model is {MAE}\")\n",
    "MSE = np.sum(np.array(mean_sq_error)) / len(mean_sq_error)\n",
    "print(f\"MSE of the model is {MSE}\")\n",
    "Median = np.median(np.array(median_error))\n",
    "print(f\"Median absolute error of the model is {Median}\")\n",
    "SD = np.std(pred)\n",
    "print(f\"Standard Deviation of the model is {SD}\")\n",
    "# r2 = r2_score(y_true,pred)\n",
    "# print(f\"R2 score of the model is {r2}\")\n",
    "y_new = np.array(y_true).reshape(-1)\n",
    "pred_new = np.array(pred).reshape(-1)\n",
    "r2 = r2_score(y_new,pred_new)\n",
    "print(f\"R2 score of the model is {r2}\")"
   ]
  },
  {
   "cell_type": "code",
   "execution_count": 14,
   "id": "21138b1a",
   "metadata": {},
   "outputs": [
    {
     "data": {
      "image/png": "[encoded data removed]",
      "text/plain": [
       "<Figure size 640x480 with 1 Axes>"
      ]
     },
     "metadata": {},
     "output_type": "display_data"
    }
   ],
   "source": [
    "x_data = ('MAE','MSE','Median AE','s.d','R2 score')\n",
    "y_data = [MAE,MSE,Median,SD,r2]\n",
    "color = 'coral'\n",
    "bar = plt.bar(x_data,y_data,0.3,color=color,edgecolor ='grey')\n",
    "plt.bar_label(bar, label_type='edge');"
   ]
  },
  {
   "cell_type": "code",
   "execution_count": 55,
   "id": "563e2797",
   "metadata": {},
   "outputs": [
    {
     "name": "stdout",
     "output_type": "stream",
     "text": [
      "Leave one out validation\n",
      "MAE of the model is 4.2655953550634464\n",
      "MSE of the model is 43.00998707230443\n",
      "Median absolute error of the model is 3.324482163353877\n",
      "Standard Deviation of the model is 0.309018692956219\n",
      "R2 score of the model is -0.014116447416951727\n"
     ]
    }
   ],
   "source": [
    "#Lasso model\n",
    "loo = LeaveOneOut()\n",
    "model_lasso = Lasso(alpha=0.9)\n",
    "y = np.array(y_value)\n",
    "X1 = np.array(X_value)\n",
    "X1 = sc.fit_transform(X1)\n",
    "mean_ab_error = []\n",
    "mean_sq_error = []\n",
    "median_error = []\n",
    "pred = []\n",
    "y_true = []\n",
    "for train_index, test_index in loo.split(X1):\n",
    "    X_train, X_test = X1[train_index], X1[test_index]\n",
    "    y_train, y_test = y[train_index], y[test_index]\n",
    "    y_test = np.array(y_test)\n",
    "    y_train = np.array(y_train)\n",
    "    \n",
    "    model_lasso.fit(X_train,y_train)\n",
    "    \n",
    "    predict_data = model_lasso.predict(X_test)\n",
    "    pred.append(predict_data)\n",
    "    y_true.append(y_test)\n",
    "    \n",
    "    mean_ab_error.append(mean_absolute_error(y_test,predict_data))\n",
    "    mean_sq_error.append(mean_squared_error(y_test,predict_data))\n",
    "    median_error.append(median_absolute_error(y_test,predict_data))\n",
    "\n",
    "print(\"Leave one out validation\")\n",
    "MAE = np.sum(np.array(mean_ab_error)) / len(mean_ab_error)\n",
    "print(f\"MAE of the model is {MAE}\")\n",
    "MSE = np.sum(np.array(mean_sq_error)) / len(mean_sq_error)\n",
    "print(f\"MSE of the model is {MSE}\")\n",
    "Median = np.median(np.array(median_error))\n",
    "print(f\"Median absolute error of the model is {Median}\")\n",
    "SD = np.std(pred)\n",
    "print(f\"Standard Deviation of the model is {SD}\")\n",
    "# r2 = r2_score(y_true,pred)\n",
    "# print(f\"R2 score of the model is {r2}\")\n",
    "y_new = np.array(y_true).reshape(-1)\n",
    "pred_new = np.array(pred).reshape(-1)\n",
    "r2 = r2_score(y_new,pred_new)\n",
    "print(f\"R2 score of the model is {r2}\")"
   ]
  },
  {
   "cell_type": "code",
   "execution_count": 16,
   "id": "f51cdb03",
   "metadata": {},
   "outputs": [
    {
     "data": {
      "image/png": "[encoded data removed]",
      "text/plain": [
       "<Figure size 640x480 with 1 Axes>"
      ]
     },
     "metadata": {},
     "output_type": "display_data"
    }
   ],
   "source": [
    "x_data = ('MAE','MSE','Median AE','s.d','R2 score')\n",
    "y_data = [MAE,MSE,Median,SD,r2]\n",
    "color = 'coral'\n",
    "bar = plt.bar(x_data,y_data,0.3,color=color,edgecolor ='grey')\n",
    "plt.bar_label(bar, label_type='edge');"
   ]
  },
  {
   "cell_type": "code",
   "execution_count": 17,
   "id": "9a5ea570",
   "metadata": {},
   "outputs": [
    {
     "name": "stdout",
     "output_type": "stream",
     "text": [
      "Leave one out validation\n",
      "MAE of the model is 4.222847146965465\n",
      "MSE of the model is 42.69698538883661\n",
      "Median absolute error of the model is 3.214039789374567\n",
      "Standard Deviation of the model is 1.6003783047949396\n",
      "R2 score of the model is -0.006736297435964822\n"
     ]
    }
   ],
   "source": [
    "#Elastic model\n",
    "loo = LeaveOneOut()\n",
    "model_enet = ElasticNet(alpha=1.0)\n",
    "y = np.array(y_value)\n",
    "X1 = np.array(X_value)\n",
    "mean_ab_error = []\n",
    "mean_sq_error = []\n",
    "median_error = []\n",
    "pred = []\n",
    "y_true = []\n",
    "for train_index, test_index in loo.split(X1):\n",
    "    X_train, X_test = X1[train_index], X1[test_index]\n",
    "    y_train, y_test = y[train_index], y[test_index]\n",
    "    y_test = np.array(y_test)\n",
    "    y_train = np.array(y_train)\n",
    "    \n",
    "    model_enet.fit(X_train,y_train)\n",
    "    \n",
    "    predict_data = model_enet.predict(X_test)\n",
    "    pred.append(predict_data)\n",
    "    y_true.append(y_test)\n",
    "    \n",
    "    mean_ab_error.append(mean_absolute_error(y_test,predict_data))\n",
    "    mean_sq_error.append(mean_squared_error(y_test,predict_data))\n",
    "    median_error.append(median_absolute_error(y_test,predict_data))\n",
    "\n",
    "print(\"Leave one out validation\")\n",
    "MAE = np.sum(np.array(mean_ab_error)) / len(mean_ab_error)\n",
    "print(f\"MAE of the model is {MAE}\")\n",
    "MSE = np.sum(np.array(mean_sq_error)) / len(mean_sq_error)\n",
    "print(f\"MSE of the model is {MSE}\")\n",
    "Median = np.median(np.array(median_error))\n",
    "print(f\"Median absolute error of the model is {Median}\")\n",
    "SD = np.std(pred)\n",
    "print(f\"Standard Deviation of the model is {SD}\")\n",
    "# r2 = r2_score(y_true,pred)\n",
    "# print(f\"R2 score of the model is {r2}\")\n",
    "y_new = np.array(y_true).reshape(-1)\n",
    "pred_new = np.array(pred).reshape(-1)\n",
    "r2 = r2_score(y_new,pred_new)\n",
    "print(f\"R2 score of the model is {r2}\")"
   ]
  },
  {
   "cell_type": "code",
   "execution_count": 18,
   "id": "1588fdc6",
   "metadata": {},
   "outputs": [
    {
     "data": {
      "image/png": "[encoded data removed]",
      "text/plain": [
       "<Figure size 640x480 with 1 Axes>"
      ]
     },
     "metadata": {},
     "output_type": "display_data"
    }
   ],
   "source": [
    "x_data = ('MAE','MSE','Median AE','s.d','R2 score')\n",
    "y_data = [MAE,MSE,Median,SD,r2]\n",
    "color = 'coral'\n",
    "bar = plt.bar(x_data,y_data,0.3,color=color,edgecolor ='grey')\n",
    "plt.bar_label(bar, label_type='edge');"
   ]
  },
  {
   "cell_type": "code",
   "execution_count": 19,
   "id": "7c336134",
   "metadata": {},
   "outputs": [],
   "source": [
    "from sklearn.pipeline import Pipeline\n",
    "from sklearn.preprocessing import StandardScaler"
   ]
  },
  {
   "cell_type": "code",
   "execution_count": 20,
   "id": "4125ae79",
   "metadata": {},
   "outputs": [
    {
     "name": "stdout",
     "output_type": "stream",
     "text": [
      "Leave one out validation\n",
      "MAE of the model is 20.86991687489898\n",
      "MSE of the model is 853.5615294223873\n",
      "Median absolute error of the model is 15.96266810489362\n",
      "Standard Deviation of the model is 27.827335429541648\n",
      "R2 score of the model is -19.125809022319075\n"
     ]
    }
   ],
   "source": [
    "poly_reg = Pipeline([\n",
    "    (\"poly\", PolynomialFeatures(degree=2)),\n",
    "    (\"std_scaler\", StandardScaler()),\n",
    "    (\"lin_reg\", LinearRegression())\n",
    "])\n",
    "\n",
    "y = np.array(y_value)\n",
    "X1 = np.array(X_value)\n",
    "mean_ab_error = []\n",
    "mean_sq_error = []\n",
    "median_error = []\n",
    "pred = []\n",
    "y_true = []\n",
    "for train_index, test_index in loo.split(X1):\n",
    "    X_train, X_test = X1[train_index], X1[test_index]\n",
    "    y_train, y_test = y[train_index], y[test_index]\n",
    "    y_test = np.array(y_test)\n",
    "    y_train = np.array(y_train)\n",
    "    \n",
    "    poly_reg.fit(X_train,y_train)\n",
    "    \n",
    "    predict_data = poly_reg.predict(X_test)\n",
    "    pred.append(predict_data)\n",
    "    y_true.append(y_test)\n",
    "    \n",
    "    mean_ab_error.append(mean_absolute_error(y_test,predict_data))\n",
    "    mean_sq_error.append(mean_squared_error(y_test,predict_data))\n",
    "    median_error.append(median_absolute_error(y_test,predict_data))\n",
    "\n",
    "print(\"Leave one out validation\")\n",
    "MAE = np.sum(np.array(mean_ab_error)) / len(mean_ab_error)\n",
    "print(f\"MAE of the model is {MAE}\")\n",
    "MSE = np.sum(np.array(mean_sq_error)) / len(mean_sq_error)\n",
    "print(f\"MSE of the model is {MSE}\")\n",
    "Median = np.median(np.array(median_error))\n",
    "print(f\"Median absolute error of the model is {Median}\")\n",
    "SD = np.std(pred)\n",
    "print(f\"Standard Deviation of the model is {SD}\")\n",
    "# r2 = r2_score(y_true,pred)\n",
    "# print(f\"R2 score of the model is {r2}\")\n",
    "y_new = np.array(y_true).reshape(-1)\n",
    "pred_new = np.array(pred).reshape(-1)\n",
    "r2 = r2_score(y_new,pred_new)\n",
    "print(f\"R2 score of the model is {r2}\")"
   ]
  },
  {
   "cell_type": "code",
   "execution_count": 21,
   "id": "36003d86",
   "metadata": {},
   "outputs": [],
   "source": [
    "from sklearn.kernel_approximation import PolynomialCountSketch"
   ]
  },
  {
   "cell_type": "code",
   "execution_count": 22,
   "id": "e24d5920",
   "metadata": {},
   "outputs": [
    {
     "name": "stdout",
     "output_type": "stream",
     "text": [
      "Leave one out validation\n",
      "MAE of the model is 4.467863186802527\n",
      "MSE of the model is 47.243473233849485\n",
      "Median absolute error of the model is 3.194345018689712\n",
      "Standard Deviation of the model is 2.06621025345769\n",
      "R2 score of the model is -0.11393623901831829\n"
     ]
    }
   ],
   "source": [
    "ps = PolynomialCountSketch(degree=3,n_components=15)\n",
    "lg = LinearRegression()\n",
    "y = np.array(y_value)\n",
    "X1 = np.array(X_value)\n",
    "X1 = ps.fit_transform(X1)\n",
    "mean_ab_error = []\n",
    "mean_sq_error = []\n",
    "median_error = []\n",
    "pred = []\n",
    "y_true = []\n",
    "for train_index, test_index in loo.split(X1):\n",
    "    X_train, X_test = X1[train_index], X1[test_index]\n",
    "    y_train, y_test = y[train_index], y[test_index]\n",
    "    y_test = np.array(y_test)\n",
    "    y_train = np.array(y_train)\n",
    "    \n",
    "    lg.fit(X_train,y_train)\n",
    "    \n",
    "    predict_data = lg.predict(X_test)\n",
    "    pred.append(predict_data)\n",
    "    y_true.append(y_test)\n",
    "    \n",
    "    mean_ab_error.append(mean_absolute_error(y_test,predict_data))\n",
    "    mean_sq_error.append(mean_squared_error(y_test,predict_data))\n",
    "    median_error.append(median_absolute_error(y_test,predict_data))\n",
    "\n",
    "print(\"Leave one out validation\")\n",
    "MAE = np.sum(np.array(mean_ab_error)) / len(mean_ab_error)\n",
    "print(f\"MAE of the model is {MAE}\")\n",
    "MSE = np.sum(np.array(mean_sq_error)) / len(mean_sq_error)\n",
    "print(f\"MSE of the model is {MSE}\")\n",
    "Median = np.median(np.array(median_error))\n",
    "print(f\"Median absolute error of the model is {Median}\")\n",
    "SD = np.std(pred)\n",
    "print(f\"Standard Deviation of the model is {SD}\")\n",
    "# r2 = r2_score(y_true,pred)\n",
    "# print(f\"R2 score of the model is {r2}\")\n",
    "y_new = np.array(y_true).reshape(-1)\n",
    "pred_new = np.array(pred).reshape(-1)\n",
    "r2 = r2_score(y_new,pred_new)\n",
    "print(f\"R2 score of the model is {r2}\")"
   ]
  },
  {
   "cell_type": "code",
   "execution_count": 23,
   "id": "f56e5ee8",
   "metadata": {},
   "outputs": [
    {
     "name": "stdout",
     "output_type": "stream",
     "text": [
      "Leave one out validation\n",
      "MAE of the model is 4.343588086126658\n",
      "MSE of the model is 44.63739108787184\n",
      "Median absolute error of the model is 3.2825528142629308\n",
      "Standard Deviation of the model is 2.2136332740535636\n",
      "R2 score of the model is -0.05248839986615472\n"
     ]
    }
   ],
   "source": [
    "ps = PolynomialCountSketch(degree=2,n_components=15)\n",
    "lg = LinearRegression()\n",
    "y = np.array(y_value)\n",
    "X1 = np.array(X_value)\n",
    "X1 = ps.fit_transform(X1)\n",
    "mean_ab_error = []\n",
    "mean_sq_error = []\n",
    "median_error = []\n",
    "pred = []\n",
    "y_true = []\n",
    "for train_index, test_index in loo.split(X1):\n",
    "    X_train, X_test = X1[train_index], X1[test_index]\n",
    "    y_train, y_test = y[train_index], y[test_index]\n",
    "    y_test = np.array(y_test)\n",
    "    y_train = np.array(y_train)\n",
    "    \n",
    "    lg.fit(X_train,y_train)\n",
    "    \n",
    "    predict_data = lg.predict(X_test)\n",
    "    pred.append(predict_data)\n",
    "    y_true.append(y_test)\n",
    "    \n",
    "    mean_ab_error.append(mean_absolute_error(y_test,predict_data))\n",
    "    mean_sq_error.append(mean_squared_error(y_test,predict_data))\n",
    "    median_error.append(median_absolute_error(y_test,predict_data))\n",
    "\n",
    "print(\"Leave one out validation\")\n",
    "MAE = np.sum(np.array(mean_ab_error)) / len(mean_ab_error)\n",
    "print(f\"MAE of the model is {MAE}\")\n",
    "MSE = np.sum(np.array(mean_sq_error)) / len(mean_sq_error)\n",
    "print(f\"MSE of the model is {MSE}\")\n",
    "Median = np.median(np.array(median_error))\n",
    "print(f\"Median absolute error of the model is {Median}\")\n",
    "SD = np.std(pred)\n",
    "print(f\"Standard Deviation of the model is {SD}\")\n",
    "# r2 = r2_score(y_true,pred)\n",
    "# print(f\"R2 score of the model is {r2}\")\n",
    "y_new = np.array(y_true).reshape(-1)\n",
    "pred_new = np.array(pred).reshape(-1)\n",
    "r2 = r2_score(y_new,pred_new)\n",
    "print(f\"R2 score of the model is {r2}\")"
   ]
  },
  {
   "cell_type": "code",
   "execution_count": 24,
   "id": "fe2bac50",
   "metadata": {},
   "outputs": [
    {
     "name": "stdout",
     "output_type": "stream",
     "text": [
      "Leave one out validation\n",
      "MAE of the model is 4.545906210783815\n",
      "MSE of the model is 48.420405587564524\n",
      "Median absolute error of the model is 3.3568231288665085\n",
      "Standard Deviation of the model is 2.2863199903943836\n",
      "R2 score of the model is -0.1416866881266401\n"
     ]
    }
   ],
   "source": [
    "ps = PolynomialCountSketch(degree=4,n_components=15)\n",
    "lg = LinearRegression()\n",
    "y = np.array(y_value)\n",
    "X1 = np.array(X_value)\n",
    "X1 = ps.fit_transform(X1)\n",
    "mean_ab_error = []\n",
    "mean_sq_error = []\n",
    "median_error = []\n",
    "pred = []\n",
    "y_true = []\n",
    "for train_index, test_index in loo.split(X1):\n",
    "    X_train, X_test = X1[train_index], X1[test_index]\n",
    "    y_train, y_test = y[train_index], y[test_index]\n",
    "    y_test = np.array(y_test)\n",
    "    y_train = np.array(y_train)\n",
    "    \n",
    "    lg.fit(X_train,y_train)\n",
    "    \n",
    "    predict_data = lg.predict(X_test)\n",
    "    pred.append(predict_data)\n",
    "    y_true.append(y_test)\n",
    "    \n",
    "    mean_ab_error.append(mean_absolute_error(y_test,predict_data))\n",
    "    mean_sq_error.append(mean_squared_error(y_test,predict_data))\n",
    "    median_error.append(median_absolute_error(y_test,predict_data))\n",
    "\n",
    "print(\"Leave one out validation\")\n",
    "MAE = np.sum(np.array(mean_ab_error)) / len(mean_ab_error)\n",
    "print(f\"MAE of the model is {MAE}\")\n",
    "MSE = np.sum(np.array(mean_sq_error)) / len(mean_sq_error)\n",
    "print(f\"MSE of the model is {MSE}\")\n",
    "Median = np.median(np.array(median_error))\n",
    "print(f\"Median absolute error of the model is {Median}\")\n",
    "SD = np.std(pred)\n",
    "print(f\"Standard Deviation of the model is {SD}\")\n",
    "# r2 = r2_score(y_true,pred)\n",
    "# print(f\"R2 score of the model is {r2}\")\n",
    "y_new = np.array(y_true).reshape(-1)\n",
    "pred_new = np.array(pred).reshape(-1)\n",
    "r2 = r2_score(y_new,pred_new)\n",
    "print(f\"R2 score of the model is {r2}\")"
   ]
  },
  {
   "cell_type": "code",
   "execution_count": 48,
   "id": "06eab365",
   "metadata": {},
   "outputs": [
    {
     "name": "stdout",
     "output_type": "stream",
     "text": [
      "Leave one out validation\n",
      "MAE of the model is 4.584797933471268\n",
      "MSE of the model is 48.61711251870889\n",
      "Median absolute error of the model is 3.2966963097971798\n",
      "Standard Deviation of the model is 2.3609420476874265\n",
      "R2 score of the model is -0.14632476750711199\n"
     ]
    }
   ],
   "source": [
    "ps = PolynomialCountSketch(degree=8,n_components=15)\n",
    "lg = LinearRegression()\n",
    "y = np.array(y_value)\n",
    "X1 = np.array(X_value)\n",
    "X1 = ps.fit_transform(X1)\n",
    "mean_ab_error = []\n",
    "mean_sq_error = []\n",
    "median_error = []\n",
    "pred = []\n",
    "y_true = []\n",
    "for train_index, test_index in loo.split(X1):\n",
    "    X_train, X_test = X1[train_index], X1[test_index]\n",
    "    y_train, y_test = y[train_index], y[test_index]\n",
    "    y_test = np.array(y_test)\n",
    "    y_train = np.array(y_train)\n",
    "    \n",
    "    lg.fit(X_train,y_train)\n",
    "    \n",
    "    predict_data = lg.predict(X_test)\n",
    "    pred.append(predict_data)\n",
    "    y_true.append(y_test)\n",
    "    \n",
    "    mean_ab_error.append(mean_absolute_error(y_test,predict_data))\n",
    "    mean_sq_error.append(mean_squared_error(y_test,predict_data))\n",
    "    median_error.append(median_absolute_error(y_test,predict_data))\n",
    "\n",
    "print(\"Leave one out validation\")\n",
    "MAE = np.sum(np.array(mean_ab_error)) / len(mean_ab_error)\n",
    "print(f\"MAE of the model is {MAE}\")\n",
    "MSE = np.sum(np.array(mean_sq_error)) / len(mean_sq_error)\n",
    "print(f\"MSE of the model is {MSE}\")\n",
    "Median = np.median(np.array(median_error))\n",
    "print(f\"Median absolute error of the model is {Median}\")\n",
    "SD = np.std(pred)\n",
    "print(f\"Standard Deviation of the model is {SD}\")\n",
    "# r2 = r2_score(y_true,pred)\n",
    "# print(f\"R2 score of the model is {r2}\")\n",
    "y_new = np.array(y_true).reshape(-1)\n",
    "pred_new = np.array(pred).reshape(-1)\n",
    "r2 = r2_score(y_new,pred_new)\n",
    "print(f\"R2 score of the model is {r2}\")"
   ]
  },
  {
   "cell_type": "code",
   "execution_count": 50,
   "id": "2bd19c20",
   "metadata": {},
   "outputs": [
    {
     "data": {
      "text/plain": [
       "[<matplotlib.lines.Line2D at 0x7f9344de2400>]"
      ]
     },
     "execution_count": 50,
     "metadata": {},
     "output_type": "execute_result"
    },
    {
     "data": {
      "image/png": "[encoded data removed]",
      "text/plain": [
       "<Figure size 640x480 with 1 Axes>"
      ]
     },
     "metadata": {},
     "output_type": "display_data"
    }
   ],
   "source": [
    "plt.plot(y_new,'r-')\n",
    "plt.plot(pred_new,'g-')"
   ]
  },
  {
   "cell_type": "code",
   "execution_count": null,
   "id": "7e8ca98e",
   "metadata": {},
   "outputs": [],
   "source": []
  }
 ],
 "metadata": {
  "kernelspec": {
   "display_name": "Python 3 (ipykernel)",
   "language": "python",
   "name": "python3"
  },
  "language_info": {
   "codemirror_mode": {
    "name": "ipython",
    "version": 3
   },
   "file_extension": ".py",
   "mimetype": "text/x-python",
   "name": "python",
   "nbconvert_exporter": "python",
   "pygments_lexer": "ipython3",
   "version": "3.9.6"
  }
 },
 "nbformat": 4,
 "nbformat_minor": 5
}
