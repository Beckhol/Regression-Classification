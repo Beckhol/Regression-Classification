{
 "cells": [
  {
   "cell_type": "code",
   "execution_count": 1,
   "id": "df7a1615",
   "metadata": {},
   "outputs": [],
   "source": [
    "import matplotlib.pyplot as plt\n",
    "%matplotlib inline\n",
    "import numpy as np\n",
    "import pandas as pd\n",
    "from sklearn import datasets, linear_model\n",
    "from sklearn.model_selection import train_test_split\n",
    "from sklearn.metrics import mean_absolute_error\n",
    "from sklearn.metrics import mean_squared_error\n",
    "from sklearn.metrics import median_absolute_error\n",
    "from sklearn.model_selection import LeaveOneOut,cross_val_score\n",
    "from sklearn.preprocessing import PolynomialFeatures\n",
    "from sklearn.linear_model import LinearRegression\n",
    "from sklearn.metrics import r2_score\n",
    "import seaborn as sns\n",
    "from sklearn.kernel_approximation import PolynomialCountSketch\n",
    "from sklearn.linear_model import Lasso\n",
    "from sklearn.linear_model import ElasticNet"
   ]
  },
  {
   "cell_type": "code",
   "execution_count": 8,
   "id": "178c7080",
   "metadata": {},
   "outputs": [],
   "source": [
    "def get_parameters(X,y,model):\n",
    "    \n",
    "    loo = LeaveOneOut()\n",
    "    X1 = np.array(X)\n",
    "    y = np.array(y)\n",
    "    mean_ab_error = []\n",
    "    mean_sq_error = []\n",
    "    median_error = []\n",
    "    pred = []\n",
    "    y_true = []\n",
    "    \n",
    "    for train_index, test_index in loo.split(X1):\n",
    "        X_train, X_test = X1[train_index], X1[test_index]\n",
    "        y_train, y_test = y[train_index], y[test_index]\n",
    "        lg.fit(X_train,y_train)\n",
    "        predict_data = lg.predict(X_test)\n",
    "        pred.append(predict_data)\n",
    "        y_true.append(y_test)\n",
    "        mean_ab_error.append(mean_absolute_error(y_test,predict_data))\n",
    "        mean_sq_error.append(mean_squared_error(y_test,predict_data))\n",
    "        median_error.append(median_absolute_error(y_test,predict_data))\n",
    "    \n",
    "    MAE = np.sum(np.array(mean_ab_error)) / len(mean_ab_error)\n",
    "    MSE = np.sum(np.array(mean_sq_error)) / len(mean_sq_error)\n",
    "    Median = np.median(np.array(median_error))\n",
    "    SD = np.std(pred)\n",
    "    y_new = np.array(y_true).reshape(-1)\n",
    "    pred_new = np.array(pred).reshape(-1)\n",
    "    r2 = r2_score(y_new,pred_new)\n",
    "    \n",
    "    return mean_ab_error,mean_sq_error,median_error,MAE,MSE,Median,SD,r2"
   ]
  },
  {
   "cell_type": "code",
   "execution_count": 24,
   "id": "aaa0914c",
   "metadata": {},
   "outputs": [],
   "source": [
    "def plot_combination(e1,e2,e3):\n",
    "    \n",
    "    ax1 = plt.subplot(1, 3, 1)\n",
    "    ax2 = plt.subplot(1, 3, 2)\n",
    "    ax3 = plt.subplot(1, 3, 3)\n",
    "    sns.histplot(e1,ax = ax1, color = 'maroon',kde = True, fill = False)\n",
    "    sns.histplot(e2, ax = ax2, color = 'darkgreen', kde = True, fill = False)\n",
    "    sns.histplot(e3, ax = ax3, color = 'darkblue', kde = True, fill = False)\n",
    "    ax1.set_title(\"MAE\")\n",
    "    ax2.set_title(\"MSE\")\n",
    "    ax3.set_title(\"MedianSE\")\n",
    "    ax1.set_xlabel(\"Error\")\n",
    "    ax2.set_xlabel(\"Error\")\n",
    "    ax3.set_xlabel(\"Error\")\n",
    "    plt.tight_layout()\n",
    "    plt.show()"
   ]
  },
  {
   "cell_type": "code",
   "execution_count": 5,
   "id": "0dd7163e",
   "metadata": {},
   "outputs": [],
   "source": [
    "#generate and filter the data\n",
    "data = pd.read_csv('new_data.csv')\n",
    "data['Sex'] = data['Sex'].replace('M',1)\n",
    "data['Sex'] = data['Sex'].replace('F',0)\n",
    "data['Side'] = data['Side'].replace('L',0)\n",
    "data['Side'] = data['Side'].replace('R',1)\n",
    "X = data[['Age','Sex','BMI','GX AT VO2 (mL/kg/min)','GX AT VE/VCO2','GX VO2 Max VO2 (mL/kg/min)','GX VO2 Max VO2/Pred (%)','GX VO2 Max VO2/HR (mL/beat)','GX Predicted VO2/HR (mL/beat)','GX Work Max Work (Watts)','GX Predicted Work (Watts)','PF Pre FEV1/FVC (%)','PF Pre FEV1 (L)','Side','pred mort','LOS']]\n",
    "X = X.dropna(axis=0)"
   ]
  },
  {
   "cell_type": "code",
   "execution_count": 6,
   "id": "f07e8be1",
   "metadata": {},
   "outputs": [],
   "source": [
    "#separate X,y\n",
    "X1 = X[['Age','Sex','BMI','GX AT VO2 (mL/kg/min)','GX AT VE/VCO2','GX VO2 Max VO2 (mL/kg/min)','GX VO2 Max VO2/Pred (%)','GX VO2 Max VO2/HR (mL/beat)','GX Predicted VO2/HR (mL/beat)','GX Work Max Work (Watts)','GX Predicted Work (Watts)','PF Pre FEV1/FVC (%)','PF Pre FEV1 (L)','Side','pred mort']]\n",
    "y = X[['LOS']]"
   ]
  },
  {
   "cell_type": "code",
   "execution_count": 18,
   "id": "bd7ec51f",
   "metadata": {},
   "outputs": [],
   "source": [
    "lg = LinearRegression()\n",
    "lg_mean_ab_error,lg_mean_sq_error,lg_median_error,lg_MAE,lg_MSE,lg_Median,lg_SD,lg_r2 = get_parameters(X1,y,lg)"
   ]
  },
  {
   "cell_type": "code",
   "execution_count": 19,
   "id": "7504a899",
   "metadata": {},
   "outputs": [],
   "source": [
    "ridge = linear_model.Ridge(alpha=1.0)\n",
    "rg_mean_ab_error,rg_mean_sq_error,rg_median_error,rg_MAE,rg_MSE,rg_Median,rg_SD,rg_r2 = get_parameters(X1,y,ridge)"
   ]
  },
  {
   "cell_type": "code",
   "execution_count": 21,
   "id": "a93f87e4",
   "metadata": {},
   "outputs": [],
   "source": [
    "lasso = Lasso(alpha=1.0)\n",
    "ls_mean_ab_error,ls_mean_sq_error,ls_median_error,ls_MAE,ls_MSE,ls_Median,ls_SD,ls_r2 = get_parameters(X1,y,lasso)"
   ]
  },
  {
   "cell_type": "code",
   "execution_count": 77,
   "id": "bd8365cb",
   "metadata": {},
   "outputs": [],
   "source": [
    "els = ElasticNet(alpha=1.0)\n",
    "els_mean_ab_error,els_mean_sq_error,els_median_error,els_MAE,els_MSE,els_Median,els_SD,els_r2 = get_parameters(X1,y,els)"
   ]
  },
  {
   "cell_type": "code",
   "execution_count": null,
   "id": "143d1dfb",
   "metadata": {},
   "outputs": [],
   "source": []
  }
 ],
 "metadata": {
  "kernelspec": {
   "display_name": "Python 3 (ipykernel)",
   "language": "python",
   "name": "python3"
  },
  "language_info": {
   "codemirror_mode": {
    "name": "ipython",
    "version": 3
   },
   "file_extension": ".py",
   "mimetype": "text/x-python",
   "name": "python",
   "nbconvert_exporter": "python",
   "pygments_lexer": "ipython3",
   "version": "3.8.10"
  }
 },
 "nbformat": 4,
 "nbformat_minor": 5
}
