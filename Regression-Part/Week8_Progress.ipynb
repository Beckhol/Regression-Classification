{
 "cells": [
  {
   "cell_type": "code",
   "execution_count": 1,
   "id": "1e670c7a",
   "metadata": {},
   "outputs": [],
   "source": [
    "import matplotlib.pyplot as plt\n",
    "%matplotlib inline\n",
    "import numpy as np\n",
    "import pandas as pd\n",
    "from sklearn import datasets, linear_model\n",
    "from sklearn.model_selection import train_test_split\n",
    "from sklearn.metrics import mean_absolute_error\n",
    "from sklearn.metrics import mean_squared_error\n",
    "from sklearn.metrics import median_absolute_error\n",
    "from sklearn.model_selection import LeaveOneOut,cross_val_score\n",
    "from sklearn.preprocessing import PolynomialFeatures\n",
    "from sklearn.linear_model import LinearRegression\n",
    "from sklearn.metrics import r2_score\n",
    "import seaborn as sns\n",
    "from sklearn.kernel_approximation import PolynomialCountSketch\n",
    "from sklearn.linear_model import Lasso\n",
    "from sklearn.linear_model import ElasticNet"
   ]
  },
  {
   "cell_type": "code",
   "execution_count": 2,
   "id": "11e5b18d",
   "metadata": {},
   "outputs": [],
   "source": [
    "#generate and filter the data\n",
    "data = pd.read_csv('new_data.csv')\n",
    "data['Sex'] = data['Sex'].replace('M',1)\n",
    "data['Sex'] = data['Sex'].replace('F',0)\n",
    "data['Side'] = data['Side'].replace('L',0)\n",
    "data['Side'] = data['Side'].replace('R',1)\n",
    "X = data[['Age','Sex','BMI','GX AT VO2 (mL/kg/min)','GX AT VE/VCO2','GX VO2 Max VO2 (mL/kg/min)','GX VO2 Max VO2/Pred (%)','GX VO2 Max VO2/HR (mL/beat)','GX Predicted VO2/HR (mL/beat)','GX Work Max Work (Watts)','GX Predicted Work (Watts)','PF Pre FEV1/FVC (%)','PF Pre FEV1 (L)','Side','pred mort','LOS']]\n",
    "X = X.dropna(axis=0)\n",
    "\n",
    "#separate X,y\n",
    "X1 = X[['Age','Sex','BMI','GX AT VO2 (mL/kg/min)','GX AT VE/VCO2','GX VO2 Max VO2 (mL/kg/min)','GX VO2 Max VO2/Pred (%)','GX VO2 Max VO2/HR (mL/beat)','GX Predicted VO2/HR (mL/beat)','GX Work Max Work (Watts)','GX Predicted Work (Watts)','PF Pre FEV1/FVC (%)','PF Pre FEV1 (L)','Side','pred mort']]\n",
    "y = X[['LOS']]"
   ]
  },
  {
   "cell_type": "code",
   "execution_count": 11,
   "id": "f5c50dc8",
   "metadata": {},
   "outputs": [
    {
     "name": "stdout",
     "output_type": "stream",
     "text": [
      "Leave one out validation\n",
      "MAE of the model is 5.135661736283378\n",
      "MSE of the model is 80.78912831541813\n",
      "Median absolute error of the model is 3.4795368050276956\n",
      "Standard Deviation of the model is 2.8454930781008962\n",
      "R2 score of the model is -0.04063835879262312\n"
     ]
    },
    {
     "data": {
      "text/plain": [
       "array([ 594.55880404, 1203.87163448, 7055.5213127 ,  737.7526126 ,\n",
       "       1327.87237652,  526.94384812])"
      ]
     },
     "execution_count": 11,
     "metadata": {},
     "output_type": "execute_result"
    }
   ],
   "source": [
    "loo = LeaveOneOut()\n",
    "lg = LinearRegression()\n",
    "y = np.array(y)\n",
    "X1 = np.array(X1)\n",
    "mean_ab_error = []\n",
    "mean_sq_error = []\n",
    "median_error = []\n",
    "pred = []\n",
    "y_true = []\n",
    "for train_index, test_index in loo.split(X1):\n",
    "    X_train, X_test = X1[train_index], X1[test_index]\n",
    "    y_train, y_test = y[train_index], y[test_index]\n",
    "    lg.fit(X_train,y_train)\n",
    "    \n",
    "    predict_data = lg.predict(X_test)\n",
    "    if(mean_sq_error(y_test,predict_data) < 500):\n",
    "        pred.append(predict_data)\n",
    "        y_true.append(y_test)\n",
    "        mean_ab_error.append(mean_absolute_error(y_test,predict_data))\n",
    "        mean_sq_error.append(mean_squared_error(y_test,predict_data))\n",
    "        median_error.append(median_absolute_error(y_test,predict_data))\n",
    "    \n",
    "print(\"Leave one out validation\")\n",
    "MAE = np.sum(np.array(mean_ab_error)) / len(mean_ab_error)\n",
    "print(f\"MAE of the model is {MAE}\")\n",
    "MSE = np.sum(np.array(mean_sq_error)) / len(mean_sq_error)\n",
    "print(f\"MSE of the model is {MSE}\")\n",
    "Median = np.median(np.array(median_error))\n",
    "print(f\"Median absolute error of the model is {Median}\")\n",
    "SD = np.std(pred)\n",
    "print(f\"Standard Deviation of the model is {SD}\")\n",
    "# r2 = r2_score(y_true,pred)\n",
    "# print(f\"R2 score of the model is {r2}\")\n",
    "y_new = np.array(y_true).reshape(-1)\n",
    "pred_new = np.array(pred).reshape(-1)\n",
    "r2 = r2_score(y_new,pred_new)\n",
    "print(f\"R2 score of the model is {r2}\")\n",
    "mean_sq_error = np.array(mean_sq_error)\n",
    "mean_sq_error = mean_sq_error[mean_sq_error > 500]\n",
    "mean_sq_error"
   ]
  },
  {
   "cell_type": "code",
   "execution_count": null,
   "id": "8d4bccd1",
   "metadata": {},
   "outputs": [],
   "source": []
  }
 ],
 "metadata": {
  "kernelspec": {
   "display_name": "Python 3 (ipykernel)",
   "language": "python",
   "name": "python3"
  },
  "language_info": {
   "codemirror_mode": {
    "name": "ipython",
    "version": 3
   },
   "file_extension": ".py",
   "mimetype": "text/x-python",
   "name": "python",
   "nbconvert_exporter": "python",
   "pygments_lexer": "ipython3",
   "version": "3.8.10"
  }
 },
 "nbformat": 4,
 "nbformat_minor": 5
}
