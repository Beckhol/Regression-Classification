{
 "cells": [
  {
   "cell_type": "code",
   "execution_count": 2,
   "id": "130d8e90",
   "metadata": {},
   "outputs": [],
   "source": [
    "import matplotlib.pyplot as plt\n",
    "%matplotlib inline\n",
    "import numpy as np\n",
    "import pandas as pd\n",
    "from sklearn import datasets, linear_model"
   ]
  },
  {
   "cell_type": "code",
   "execution_count": 3,
   "id": "ad646bc0",
   "metadata": {},
   "outputs": [
    {
     "data": {
      "text/html": [
       "<div>\n",
       "<style scoped>\n",
       "    .dataframe tbody tr th:only-of-type {\n",
       "        vertical-align: middle;\n",
       "    }\n",
       "\n",
       "    .dataframe tbody tr th {\n",
       "        vertical-align: top;\n",
       "    }\n",
       "\n",
       "    .dataframe thead th {\n",
       "        text-align: right;\n",
       "    }\n",
       "</style>\n",
       "<table border=\"1\" class=\"dataframe\">\n",
       "  <thead>\n",
       "    <tr style=\"text-align: right;\">\n",
       "      <th></th>\n",
       "      <th>Patient</th>\n",
       "      <th>Age</th>\n",
       "      <th>Sex</th>\n",
       "      <th>TPA</th>\n",
       "      <th>BMI</th>\n",
       "      <th>GX AT VO2 (mL/kg/min)</th>\n",
       "      <th>GX AT VE/VCO2</th>\n",
       "      <th>GX VO2 Max VO2 (mL/kg/min)</th>\n",
       "      <th>GX VO2 Max VO2/Pred (%)</th>\n",
       "      <th>GX VO2 Max VO2/HR (mL/beat)</th>\n",
       "      <th>...</th>\n",
       "      <th>date of op</th>\n",
       "      <th>date of discharge</th>\n",
       "      <th>LOS</th>\n",
       "      <th>LOSbin</th>\n",
       "      <th>date of death/Today</th>\n",
       "      <th>alive / dead</th>\n",
       "      <th>survival</th>\n",
       "      <th>30/7mort</th>\n",
       "      <th>1 year mort</th>\n",
       "      <th>2 year mort</th>\n",
       "    </tr>\n",
       "  </thead>\n",
       "  <tbody>\n",
       "    <tr>\n",
       "      <th>0</th>\n",
       "      <td>21.0</td>\n",
       "      <td>66.0</td>\n",
       "      <td>M</td>\n",
       "      <td>NaN</td>\n",
       "      <td>26.0</td>\n",
       "      <td>7.4</td>\n",
       "      <td>39.0</td>\n",
       "      <td>9.8</td>\n",
       "      <td>31.0</td>\n",
       "      <td>8.0</td>\n",
       "      <td>...</td>\n",
       "      <td>2020/10/13 00:00</td>\n",
       "      <td>2020/10/14 00:00</td>\n",
       "      <td>1.0</td>\n",
       "      <td>0.0</td>\n",
       "      <td>2021/10/1 00:00</td>\n",
       "      <td>0.0</td>\n",
       "      <td>11.766667</td>\n",
       "      <td>0.0</td>\n",
       "      <td>0.0</td>\n",
       "      <td>0.0</td>\n",
       "    </tr>\n",
       "    <tr>\n",
       "      <th>1</th>\n",
       "      <td>179.0</td>\n",
       "      <td>68.0</td>\n",
       "      <td>M</td>\n",
       "      <td>1460.3</td>\n",
       "      <td>24.0</td>\n",
       "      <td>15.3</td>\n",
       "      <td>29.0</td>\n",
       "      <td>24.8</td>\n",
       "      <td>79.0</td>\n",
       "      <td>17.0</td>\n",
       "      <td>...</td>\n",
       "      <td>2017/5/10 00:00</td>\n",
       "      <td>2017/5/22 00:00</td>\n",
       "      <td>13.0</td>\n",
       "      <td>1.0</td>\n",
       "      <td>2021/10/1 00:00</td>\n",
       "      <td>0.0</td>\n",
       "      <td>53.500000</td>\n",
       "      <td>0.0</td>\n",
       "      <td>0.0</td>\n",
       "      <td>0.0</td>\n",
       "    </tr>\n",
       "    <tr>\n",
       "      <th>2</th>\n",
       "      <td>163.0</td>\n",
       "      <td>77.0</td>\n",
       "      <td>F</td>\n",
       "      <td>NaN</td>\n",
       "      <td>25.0</td>\n",
       "      <td>8.2</td>\n",
       "      <td>47.0</td>\n",
       "      <td>9.2</td>\n",
       "      <td>47.0</td>\n",
       "      <td>7.0</td>\n",
       "      <td>...</td>\n",
       "      <td>2017/9/7 00:00</td>\n",
       "      <td>2017/9/15 00:00</td>\n",
       "      <td>8.0</td>\n",
       "      <td>1.0</td>\n",
       "      <td>2021/10/1 00:00</td>\n",
       "      <td>0.0</td>\n",
       "      <td>49.500000</td>\n",
       "      <td>0.0</td>\n",
       "      <td>0.0</td>\n",
       "      <td>0.0</td>\n",
       "    </tr>\n",
       "    <tr>\n",
       "      <th>3</th>\n",
       "      <td>167.0</td>\n",
       "      <td>81.0</td>\n",
       "      <td>F</td>\n",
       "      <td>NaN</td>\n",
       "      <td>24.0</td>\n",
       "      <td>7.5</td>\n",
       "      <td>24.0</td>\n",
       "      <td>15.5</td>\n",
       "      <td>87.0</td>\n",
       "      <td>7.0</td>\n",
       "      <td>...</td>\n",
       "      <td>2014/5/9 00:00</td>\n",
       "      <td>2014/5/13 00:00</td>\n",
       "      <td>4.0</td>\n",
       "      <td>0.0</td>\n",
       "      <td>2018/7/27 00:00</td>\n",
       "      <td>1.0</td>\n",
       "      <td>51.333333</td>\n",
       "      <td>0.0</td>\n",
       "      <td>0.0</td>\n",
       "      <td>0.0</td>\n",
       "    </tr>\n",
       "    <tr>\n",
       "      <th>4</th>\n",
       "      <td>145.0</td>\n",
       "      <td>69.0</td>\n",
       "      <td>F</td>\n",
       "      <td>971.5</td>\n",
       "      <td>34.0</td>\n",
       "      <td>6.5</td>\n",
       "      <td>32.0</td>\n",
       "      <td>11.4</td>\n",
       "      <td>77.0</td>\n",
       "      <td>8.0</td>\n",
       "      <td>...</td>\n",
       "      <td>2017/12/22 00:00</td>\n",
       "      <td>2017/12/30 00:00</td>\n",
       "      <td>8.0</td>\n",
       "      <td>1.0</td>\n",
       "      <td>2021/10/1 00:00</td>\n",
       "      <td>0.0</td>\n",
       "      <td>45.966667</td>\n",
       "      <td>0.0</td>\n",
       "      <td>0.0</td>\n",
       "      <td>0.0</td>\n",
       "    </tr>\n",
       "  </tbody>\n",
       "</table>\n",
       "<p>5 rows × 28 columns</p>\n",
       "</div>"
      ],
      "text/plain": [
       "   Patient   Age Sex     TPA   BMI  GX AT VO2 (mL/kg/min)  GX AT VE/VCO2  \\\n",
       "0     21.0  66.0   M     NaN  26.0                    7.4           39.0   \n",
       "1    179.0  68.0   M  1460.3  24.0                   15.3           29.0   \n",
       "2    163.0  77.0   F     NaN  25.0                    8.2           47.0   \n",
       "3    167.0  81.0   F     NaN  24.0                    7.5           24.0   \n",
       "4    145.0  69.0   F   971.5  34.0                    6.5           32.0   \n",
       "\n",
       "   GX VO2 Max VO2 (mL/kg/min)  GX VO2 Max VO2/Pred (%)  \\\n",
       "0                         9.8                     31.0   \n",
       "1                        24.8                     79.0   \n",
       "2                         9.2                     47.0   \n",
       "3                        15.5                     87.0   \n",
       "4                        11.4                     77.0   \n",
       "\n",
       "   GX VO2 Max VO2/HR (mL/beat)  ...        date of op  date of discharge  \\\n",
       "0                          8.0  ...  2020/10/13 00:00   2020/10/14 00:00   \n",
       "1                         17.0  ...   2017/5/10 00:00    2017/5/22 00:00   \n",
       "2                          7.0  ...    2017/9/7 00:00    2017/9/15 00:00   \n",
       "3                          7.0  ...    2014/5/9 00:00    2014/5/13 00:00   \n",
       "4                          8.0  ...  2017/12/22 00:00   2017/12/30 00:00   \n",
       "\n",
       "    LOS  LOSbin  date of death/Today alive / dead   survival  30/7mort  \\\n",
       "0   1.0     0.0      2021/10/1 00:00          0.0  11.766667       0.0   \n",
       "1  13.0     1.0      2021/10/1 00:00          0.0  53.500000       0.0   \n",
       "2   8.0     1.0      2021/10/1 00:00          0.0  49.500000       0.0   \n",
       "3   4.0     0.0      2018/7/27 00:00          1.0  51.333333       0.0   \n",
       "4   8.0     1.0      2021/10/1 00:00          0.0  45.966667       0.0   \n",
       "\n",
       "  1 year mort 2 year mort  \n",
       "0         0.0         0.0  \n",
       "1         0.0         0.0  \n",
       "2         0.0         0.0  \n",
       "3         0.0         0.0  \n",
       "4         0.0         0.0  \n",
       "\n",
       "[5 rows x 28 columns]"
      ]
     },
     "execution_count": 3,
     "metadata": {},
     "output_type": "execute_result"
    }
   ],
   "source": [
    "data = pd.read_csv('new_data.csv')\n",
    "data.head()"
   ]
  },
  {
   "cell_type": "code",
   "execution_count": 5,
   "id": "460ee0de",
   "metadata": {},
   "outputs": [
    {
     "data": {
      "text/plain": [
       "(251, 28)"
      ]
     },
     "execution_count": 5,
     "metadata": {},
     "output_type": "execute_result"
    }
   ],
   "source": [
    "data.shape"
   ]
  },
  {
   "cell_type": "code",
   "execution_count": 6,
   "id": "86e7d759",
   "metadata": {},
   "outputs": [],
   "source": [
    "data['Sex'] = data['Sex'].replace('M',1)\n",
    "data['Sex'] = data['Sex'].replace('F',0)"
   ]
  },
  {
   "cell_type": "code",
   "execution_count": 7,
   "id": "75fb1168",
   "metadata": {},
   "outputs": [],
   "source": [
    "data['Side'] = data['Side'].replace('L',0)\n",
    "data['Side'] = data['Side'].replace('R',1)"
   ]
  },
  {
   "cell_type": "code",
   "execution_count": 8,
   "id": "ab6fa1a1",
   "metadata": {},
   "outputs": [
    {
     "data": {
      "text/html": [
       "<div>\n",
       "<style scoped>\n",
       "    .dataframe tbody tr th:only-of-type {\n",
       "        vertical-align: middle;\n",
       "    }\n",
       "\n",
       "    .dataframe tbody tr th {\n",
       "        vertical-align: top;\n",
       "    }\n",
       "\n",
       "    .dataframe thead th {\n",
       "        text-align: right;\n",
       "    }\n",
       "</style>\n",
       "<table border=\"1\" class=\"dataframe\">\n",
       "  <thead>\n",
       "    <tr style=\"text-align: right;\">\n",
       "      <th></th>\n",
       "      <th>Age</th>\n",
       "      <th>Sex</th>\n",
       "      <th>BMI</th>\n",
       "      <th>GX AT VO2 (mL/kg/min)</th>\n",
       "      <th>GX AT VE/VCO2</th>\n",
       "      <th>GX VO2 Max VO2 (mL/kg/min)</th>\n",
       "      <th>GX VO2 Max VO2/Pred (%)</th>\n",
       "      <th>GX VO2 Max VO2/HR (mL/beat)</th>\n",
       "      <th>GX Predicted VO2/HR (mL/beat)</th>\n",
       "      <th>GX Work Max Work (Watts)</th>\n",
       "      <th>GX Predicted Work (Watts)</th>\n",
       "      <th>PF Pre FEV1/FVC (%)</th>\n",
       "      <th>Side</th>\n",
       "      <th>pred mort</th>\n",
       "      <th>LOS</th>\n",
       "    </tr>\n",
       "  </thead>\n",
       "  <tbody>\n",
       "    <tr>\n",
       "      <th>0</th>\n",
       "      <td>66.0</td>\n",
       "      <td>1.0</td>\n",
       "      <td>26.0</td>\n",
       "      <td>7.4</td>\n",
       "      <td>39.0</td>\n",
       "      <td>9.8</td>\n",
       "      <td>31.0</td>\n",
       "      <td>8.0</td>\n",
       "      <td>15.0</td>\n",
       "      <td>30.0</td>\n",
       "      <td>175.0</td>\n",
       "      <td>57.0</td>\n",
       "      <td>0.0</td>\n",
       "      <td>1.42</td>\n",
       "      <td>1.0</td>\n",
       "    </tr>\n",
       "    <tr>\n",
       "      <th>1</th>\n",
       "      <td>68.0</td>\n",
       "      <td>1.0</td>\n",
       "      <td>24.0</td>\n",
       "      <td>15.3</td>\n",
       "      <td>29.0</td>\n",
       "      <td>24.8</td>\n",
       "      <td>79.0</td>\n",
       "      <td>17.0</td>\n",
       "      <td>16.0</td>\n",
       "      <td>111.0</td>\n",
       "      <td>177.0</td>\n",
       "      <td>80.0</td>\n",
       "      <td>0.0</td>\n",
       "      <td>1.00</td>\n",
       "      <td>13.0</td>\n",
       "    </tr>\n",
       "    <tr>\n",
       "      <th>2</th>\n",
       "      <td>77.0</td>\n",
       "      <td>0.0</td>\n",
       "      <td>25.0</td>\n",
       "      <td>8.2</td>\n",
       "      <td>47.0</td>\n",
       "      <td>9.2</td>\n",
       "      <td>47.0</td>\n",
       "      <td>7.0</td>\n",
       "      <td>9.0</td>\n",
       "      <td>117.0</td>\n",
       "      <td>76.0</td>\n",
       "      <td>71.0</td>\n",
       "      <td>1.0</td>\n",
       "      <td>3.00</td>\n",
       "      <td>8.0</td>\n",
       "    </tr>\n",
       "    <tr>\n",
       "      <th>3</th>\n",
       "      <td>81.0</td>\n",
       "      <td>0.0</td>\n",
       "      <td>24.0</td>\n",
       "      <td>7.5</td>\n",
       "      <td>24.0</td>\n",
       "      <td>15.5</td>\n",
       "      <td>87.0</td>\n",
       "      <td>7.0</td>\n",
       "      <td>8.0</td>\n",
       "      <td>59.0</td>\n",
       "      <td>57.0</td>\n",
       "      <td>80.0</td>\n",
       "      <td>0.0</td>\n",
       "      <td>2.00</td>\n",
       "      <td>4.0</td>\n",
       "    </tr>\n",
       "    <tr>\n",
       "      <th>4</th>\n",
       "      <td>69.0</td>\n",
       "      <td>0.0</td>\n",
       "      <td>34.0</td>\n",
       "      <td>6.5</td>\n",
       "      <td>32.0</td>\n",
       "      <td>11.4</td>\n",
       "      <td>77.0</td>\n",
       "      <td>8.0</td>\n",
       "      <td>9.0</td>\n",
       "      <td>59.0</td>\n",
       "      <td>65.0</td>\n",
       "      <td>63.0</td>\n",
       "      <td>0.0</td>\n",
       "      <td>1.00</td>\n",
       "      <td>8.0</td>\n",
       "    </tr>\n",
       "  </tbody>\n",
       "</table>\n",
       "</div>"
      ],
      "text/plain": [
       "    Age  Sex   BMI  GX AT VO2 (mL/kg/min)  GX AT VE/VCO2  \\\n",
       "0  66.0  1.0  26.0                    7.4           39.0   \n",
       "1  68.0  1.0  24.0                   15.3           29.0   \n",
       "2  77.0  0.0  25.0                    8.2           47.0   \n",
       "3  81.0  0.0  24.0                    7.5           24.0   \n",
       "4  69.0  0.0  34.0                    6.5           32.0   \n",
       "\n",
       "   GX VO2 Max VO2 (mL/kg/min)  GX VO2 Max VO2/Pred (%)  \\\n",
       "0                         9.8                     31.0   \n",
       "1                        24.8                     79.0   \n",
       "2                         9.2                     47.0   \n",
       "3                        15.5                     87.0   \n",
       "4                        11.4                     77.0   \n",
       "\n",
       "   GX VO2 Max VO2/HR (mL/beat)  GX Predicted VO2/HR (mL/beat)  \\\n",
       "0                          8.0                           15.0   \n",
       "1                         17.0                           16.0   \n",
       "2                          7.0                            9.0   \n",
       "3                          7.0                            8.0   \n",
       "4                          8.0                            9.0   \n",
       "\n",
       "   GX Work Max Work (Watts)  GX Predicted Work (Watts)  PF Pre FEV1/FVC (%)  \\\n",
       "0                      30.0                      175.0                 57.0   \n",
       "1                     111.0                      177.0                 80.0   \n",
       "2                     117.0                       76.0                 71.0   \n",
       "3                      59.0                       57.0                 80.0   \n",
       "4                      59.0                       65.0                 63.0   \n",
       "\n",
       "   Side  pred mort   LOS  \n",
       "0   0.0       1.42   1.0  \n",
       "1   0.0       1.00  13.0  \n",
       "2   1.0       3.00   8.0  \n",
       "3   0.0       2.00   4.0  \n",
       "4   0.0       1.00   8.0  "
      ]
     },
     "execution_count": 8,
     "metadata": {},
     "output_type": "execute_result"
    }
   ],
   "source": [
    "X = data[['Age','Sex','BMI','GX AT VO2 (mL/kg/min)','GX AT VE/VCO2','GX VO2 Max VO2 (mL/kg/min)','GX VO2 Max VO2/Pred (%)','GX VO2 Max VO2/HR (mL/beat)','GX Predicted VO2/HR (mL/beat)','GX Work Max Work (Watts)','GX Predicted Work (Watts)','PF Pre FEV1/FVC (%)','Side','pred mort','LOS']]\n",
    "X.head()"
   ]
  },
  {
   "cell_type": "code",
   "execution_count": 9,
   "id": "337efa53",
   "metadata": {},
   "outputs": [],
   "source": [
    "X = X.dropna(axis=0)"
   ]
  },
  {
   "cell_type": "code",
   "execution_count": 10,
   "id": "15f45342",
   "metadata": {},
   "outputs": [
    {
     "data": {
      "text/plain": [
       "(222, 15)"
      ]
     },
     "execution_count": 10,
     "metadata": {},
     "output_type": "execute_result"
    }
   ],
   "source": [
    "X.shape"
   ]
  },
  {
   "cell_type": "code",
   "execution_count": 11,
   "id": "78632e90",
   "metadata": {
    "scrolled": true
   },
   "outputs": [
    {
     "data": {
      "text/html": [
       "<div>\n",
       "<style scoped>\n",
       "    .dataframe tbody tr th:only-of-type {\n",
       "        vertical-align: middle;\n",
       "    }\n",
       "\n",
       "    .dataframe tbody tr th {\n",
       "        vertical-align: top;\n",
       "    }\n",
       "\n",
       "    .dataframe thead th {\n",
       "        text-align: right;\n",
       "    }\n",
       "</style>\n",
       "<table border=\"1\" class=\"dataframe\">\n",
       "  <thead>\n",
       "    <tr style=\"text-align: right;\">\n",
       "      <th></th>\n",
       "      <th>Age</th>\n",
       "      <th>Sex</th>\n",
       "      <th>BMI</th>\n",
       "      <th>GX AT VO2 (mL/kg/min)</th>\n",
       "      <th>GX AT VE/VCO2</th>\n",
       "      <th>GX VO2 Max VO2 (mL/kg/min)</th>\n",
       "      <th>GX VO2 Max VO2/Pred (%)</th>\n",
       "      <th>GX VO2 Max VO2/HR (mL/beat)</th>\n",
       "      <th>GX Predicted VO2/HR (mL/beat)</th>\n",
       "      <th>GX Work Max Work (Watts)</th>\n",
       "      <th>GX Predicted Work (Watts)</th>\n",
       "      <th>PF Pre FEV1/FVC (%)</th>\n",
       "      <th>Side</th>\n",
       "      <th>pred mort</th>\n",
       "      <th>LOS</th>\n",
       "    </tr>\n",
       "  </thead>\n",
       "  <tbody>\n",
       "    <tr>\n",
       "      <th>0</th>\n",
       "      <td>66.0</td>\n",
       "      <td>1.0</td>\n",
       "      <td>26.0</td>\n",
       "      <td>7.4</td>\n",
       "      <td>39.0</td>\n",
       "      <td>9.8</td>\n",
       "      <td>31.0</td>\n",
       "      <td>8.0</td>\n",
       "      <td>15.0</td>\n",
       "      <td>30.0</td>\n",
       "      <td>175.0</td>\n",
       "      <td>57.0</td>\n",
       "      <td>0.0</td>\n",
       "      <td>1.42</td>\n",
       "      <td>1.0</td>\n",
       "    </tr>\n",
       "    <tr>\n",
       "      <th>1</th>\n",
       "      <td>68.0</td>\n",
       "      <td>1.0</td>\n",
       "      <td>24.0</td>\n",
       "      <td>15.3</td>\n",
       "      <td>29.0</td>\n",
       "      <td>24.8</td>\n",
       "      <td>79.0</td>\n",
       "      <td>17.0</td>\n",
       "      <td>16.0</td>\n",
       "      <td>111.0</td>\n",
       "      <td>177.0</td>\n",
       "      <td>80.0</td>\n",
       "      <td>0.0</td>\n",
       "      <td>1.00</td>\n",
       "      <td>13.0</td>\n",
       "    </tr>\n",
       "    <tr>\n",
       "      <th>2</th>\n",
       "      <td>77.0</td>\n",
       "      <td>0.0</td>\n",
       "      <td>25.0</td>\n",
       "      <td>8.2</td>\n",
       "      <td>47.0</td>\n",
       "      <td>9.2</td>\n",
       "      <td>47.0</td>\n",
       "      <td>7.0</td>\n",
       "      <td>9.0</td>\n",
       "      <td>117.0</td>\n",
       "      <td>76.0</td>\n",
       "      <td>71.0</td>\n",
       "      <td>1.0</td>\n",
       "      <td>3.00</td>\n",
       "      <td>8.0</td>\n",
       "    </tr>\n",
       "    <tr>\n",
       "      <th>3</th>\n",
       "      <td>81.0</td>\n",
       "      <td>0.0</td>\n",
       "      <td>24.0</td>\n",
       "      <td>7.5</td>\n",
       "      <td>24.0</td>\n",
       "      <td>15.5</td>\n",
       "      <td>87.0</td>\n",
       "      <td>7.0</td>\n",
       "      <td>8.0</td>\n",
       "      <td>59.0</td>\n",
       "      <td>57.0</td>\n",
       "      <td>80.0</td>\n",
       "      <td>0.0</td>\n",
       "      <td>2.00</td>\n",
       "      <td>4.0</td>\n",
       "    </tr>\n",
       "    <tr>\n",
       "      <th>4</th>\n",
       "      <td>69.0</td>\n",
       "      <td>0.0</td>\n",
       "      <td>34.0</td>\n",
       "      <td>6.5</td>\n",
       "      <td>32.0</td>\n",
       "      <td>11.4</td>\n",
       "      <td>77.0</td>\n",
       "      <td>8.0</td>\n",
       "      <td>9.0</td>\n",
       "      <td>59.0</td>\n",
       "      <td>65.0</td>\n",
       "      <td>63.0</td>\n",
       "      <td>0.0</td>\n",
       "      <td>1.00</td>\n",
       "      <td>8.0</td>\n",
       "    </tr>\n",
       "  </tbody>\n",
       "</table>\n",
       "</div>"
      ],
      "text/plain": [
       "    Age  Sex   BMI  GX AT VO2 (mL/kg/min)  GX AT VE/VCO2  \\\n",
       "0  66.0  1.0  26.0                    7.4           39.0   \n",
       "1  68.0  1.0  24.0                   15.3           29.0   \n",
       "2  77.0  0.0  25.0                    8.2           47.0   \n",
       "3  81.0  0.0  24.0                    7.5           24.0   \n",
       "4  69.0  0.0  34.0                    6.5           32.0   \n",
       "\n",
       "   GX VO2 Max VO2 (mL/kg/min)  GX VO2 Max VO2/Pred (%)  \\\n",
       "0                         9.8                     31.0   \n",
       "1                        24.8                     79.0   \n",
       "2                         9.2                     47.0   \n",
       "3                        15.5                     87.0   \n",
       "4                        11.4                     77.0   \n",
       "\n",
       "   GX VO2 Max VO2/HR (mL/beat)  GX Predicted VO2/HR (mL/beat)  \\\n",
       "0                          8.0                           15.0   \n",
       "1                         17.0                           16.0   \n",
       "2                          7.0                            9.0   \n",
       "3                          7.0                            8.0   \n",
       "4                          8.0                            9.0   \n",
       "\n",
       "   GX Work Max Work (Watts)  GX Predicted Work (Watts)  PF Pre FEV1/FVC (%)  \\\n",
       "0                      30.0                      175.0                 57.0   \n",
       "1                     111.0                      177.0                 80.0   \n",
       "2                     117.0                       76.0                 71.0   \n",
       "3                      59.0                       57.0                 80.0   \n",
       "4                      59.0                       65.0                 63.0   \n",
       "\n",
       "   Side  pred mort   LOS  \n",
       "0   0.0       1.42   1.0  \n",
       "1   0.0       1.00  13.0  \n",
       "2   1.0       3.00   8.0  \n",
       "3   0.0       2.00   4.0  \n",
       "4   0.0       1.00   8.0  "
      ]
     },
     "execution_count": 11,
     "metadata": {},
     "output_type": "execute_result"
    }
   ],
   "source": [
    "X.head()"
   ]
  },
  {
   "cell_type": "code",
   "execution_count": 12,
   "id": "764fa799",
   "metadata": {},
   "outputs": [],
   "source": [
    "X1 = X[['Age','Sex','BMI','GX AT VO2 (mL/kg/min)','GX AT VE/VCO2','GX VO2 Max VO2 (mL/kg/min)','GX VO2 Max VO2/Pred (%)','GX VO2 Max VO2/HR (mL/beat)','GX Predicted VO2/HR (mL/beat)','GX Work Max Work (Watts)','GX Predicted Work (Watts)','PF Pre FEV1/FVC (%)','Side','pred mort']]"
   ]
  },
  {
   "cell_type": "code",
   "execution_count": 13,
   "id": "f91ba1e9",
   "metadata": {},
   "outputs": [],
   "source": [
    "from sklearn.model_selection import train_test_split"
   ]
  },
  {
   "cell_type": "code",
   "execution_count": 15,
   "id": "e112399d",
   "metadata": {},
   "outputs": [
    {
     "data": {
      "text/plain": [
       "(222, 14)"
      ]
     },
     "execution_count": 15,
     "metadata": {},
     "output_type": "execute_result"
    }
   ],
   "source": [
    "X1.shape"
   ]
  },
  {
   "cell_type": "code",
   "execution_count": 16,
   "id": "293b5d10",
   "metadata": {},
   "outputs": [],
   "source": [
    "y1 = X[['LOS']]"
   ]
  },
  {
   "cell_type": "code",
   "execution_count": 17,
   "id": "ea7f0a38",
   "metadata": {},
   "outputs": [
    {
     "data": {
      "text/plain": [
       "(222, 1)"
      ]
     },
     "execution_count": 17,
     "metadata": {},
     "output_type": "execute_result"
    }
   ],
   "source": [
    "y1.shape"
   ]
  },
  {
   "cell_type": "code",
   "execution_count": 18,
   "id": "5808f25e",
   "metadata": {},
   "outputs": [],
   "source": [
    "X_train, X_test, y_train, y_test = train_test_split(X1, y1, random_state=1)"
   ]
  },
  {
   "cell_type": "code",
   "execution_count": 19,
   "id": "384d2d51",
   "metadata": {},
   "outputs": [
    {
     "name": "stdout",
     "output_type": "stream",
     "text": [
      "(166, 14)\n",
      "(166, 1)\n",
      "(56, 14)\n",
      "(56, 1)\n"
     ]
    }
   ],
   "source": [
    "print(X_train.shape)\n",
    "print(y_train.shape)\n",
    "print(X_test.shape)\n",
    "print(y_test.shape)"
   ]
  },
  {
   "cell_type": "code",
   "execution_count": 20,
   "id": "8cf4a41e",
   "metadata": {},
   "outputs": [],
   "source": [
    "from sklearn.linear_model import LinearRegression\n",
    "linreg = LinearRegression()"
   ]
  },
  {
   "cell_type": "code",
   "execution_count": 21,
   "id": "dd60a86e",
   "metadata": {},
   "outputs": [
    {
     "data": {
      "text/html": [
       "<style>#sk-container-id-1 {color: black;background-color: white;}#sk-container-id-1 pre{padding: 0;}#sk-container-id-1 div.sk-toggleable {background-color: white;}#sk-container-id-1 label.sk-toggleable__label {cursor: pointer;display: block;width: 100%;margin-bottom: 0;padding: 0.3em;box-sizing: border-box;text-align: center;}#sk-container-id-1 label.sk-toggleable__label-arrow:before {content: \"▸\";float: left;margin-right: 0.25em;color: #696969;}#sk-container-id-1 label.sk-toggleable__label-arrow:hover:before {color: black;}#sk-container-id-1 div.sk-estimator:hover label.sk-toggleable__label-arrow:before {color: black;}#sk-container-id-1 div.sk-toggleable__content {max-height: 0;max-width: 0;overflow: hidden;text-align: left;background-color: #f0f8ff;}#sk-container-id-1 div.sk-toggleable__content pre {margin: 0.2em;color: black;border-radius: 0.25em;background-color: #f0f8ff;}#sk-container-id-1 input.sk-toggleable__control:checked~div.sk-toggleable__content {max-height: 200px;max-width: 100%;overflow: auto;}#sk-container-id-1 input.sk-toggleable__control:checked~label.sk-toggleable__label-arrow:before {content: \"▾\";}#sk-container-id-1 div.sk-estimator input.sk-toggleable__control:checked~label.sk-toggleable__label {background-color: #d4ebff;}#sk-container-id-1 div.sk-label input.sk-toggleable__control:checked~label.sk-toggleable__label {background-color: #d4ebff;}#sk-container-id-1 input.sk-hidden--visually {border: 0;clip: rect(1px 1px 1px 1px);clip: rect(1px, 1px, 1px, 1px);height: 1px;margin: -1px;overflow: hidden;padding: 0;position: absolute;width: 1px;}#sk-container-id-1 div.sk-estimator {font-family: monospace;background-color: #f0f8ff;border: 1px dotted black;border-radius: 0.25em;box-sizing: border-box;margin-bottom: 0.5em;}#sk-container-id-1 div.sk-estimator:hover {background-color: #d4ebff;}#sk-container-id-1 div.sk-parallel-item::after {content: \"\";width: 100%;border-bottom: 1px solid gray;flex-grow: 1;}#sk-container-id-1 div.sk-label:hover label.sk-toggleable__label {background-color: #d4ebff;}#sk-container-id-1 div.sk-serial::before {content: \"\";position: absolute;border-left: 1px solid gray;box-sizing: border-box;top: 0;bottom: 0;left: 50%;z-index: 0;}#sk-container-id-1 div.sk-serial {display: flex;flex-direction: column;align-items: center;background-color: white;padding-right: 0.2em;padding-left: 0.2em;position: relative;}#sk-container-id-1 div.sk-item {position: relative;z-index: 1;}#sk-container-id-1 div.sk-parallel {display: flex;align-items: stretch;justify-content: center;background-color: white;position: relative;}#sk-container-id-1 div.sk-item::before, #sk-container-id-1 div.sk-parallel-item::before {content: \"\";position: absolute;border-left: 1px solid gray;box-sizing: border-box;top: 0;bottom: 0;left: 50%;z-index: -1;}#sk-container-id-1 div.sk-parallel-item {display: flex;flex-direction: column;z-index: 1;position: relative;background-color: white;}#sk-container-id-1 div.sk-parallel-item:first-child::after {align-self: flex-end;width: 50%;}#sk-container-id-1 div.sk-parallel-item:last-child::after {align-self: flex-start;width: 50%;}#sk-container-id-1 div.sk-parallel-item:only-child::after {width: 0;}#sk-container-id-1 div.sk-dashed-wrapped {border: 1px dashed gray;margin: 0 0.4em 0.5em 0.4em;box-sizing: border-box;padding-bottom: 0.4em;background-color: white;}#sk-container-id-1 div.sk-label label {font-family: monospace;font-weight: bold;display: inline-block;line-height: 1.2em;}#sk-container-id-1 div.sk-label-container {text-align: center;}#sk-container-id-1 div.sk-container {/* jupyter's `normalize.less` sets `[hidden] { display: none; }` but bootstrap.min.css set `[hidden] { display: none !important; }` so we also need the `!important` here to be able to override the default hidden behavior on the sphinx rendered scikit-learn.org. See: https://github.com/scikit-learn/scikit-learn/issues/21755 */display: inline-block !important;position: relative;}#sk-container-id-1 div.sk-text-repr-fallback {display: none;}</style><div id=\"sk-container-id-1\" class=\"sk-top-container\"><div class=\"sk-text-repr-fallback\"><pre>LinearRegression()</pre><b>In a Jupyter environment, please rerun this cell to show the HTML representation or trust the notebook. <br />On GitHub, the HTML representation is unable to render, please try loading this page with nbviewer.org.</b></div><div class=\"sk-container\" hidden><div class=\"sk-item\"><div class=\"sk-estimator sk-toggleable\"><input class=\"sk-toggleable__control sk-hidden--visually\" id=\"sk-estimator-id-1\" type=\"checkbox\" checked><label for=\"sk-estimator-id-1\" class=\"sk-toggleable__label sk-toggleable__label-arrow\">LinearRegression</label><div class=\"sk-toggleable__content\"><pre>LinearRegression()</pre></div></div></div></div></div>"
      ],
      "text/plain": [
       "LinearRegression()"
      ]
     },
     "execution_count": 21,
     "metadata": {},
     "output_type": "execute_result"
    }
   ],
   "source": [
    "linreg.fit(X_train, y_train)"
   ]
  },
  {
   "cell_type": "code",
   "execution_count": 28,
   "id": "937799f5",
   "metadata": {},
   "outputs": [
    {
     "name": "stdout",
     "output_type": "stream",
     "text": [
      "[3.17059213]\n",
      "[[ 0.08125207  3.17419984  0.4286899  -0.10495884 -0.03373169  0.32948818\n",
      "  -0.0507298  -0.40755191  0.01714109 -0.06734739  0.02150699 -0.05491827\n",
      "  -2.85802222 -0.17906642]]\n"
     ]
    }
   ],
   "source": [
    "print(linreg.intercept_)\n",
    "print(linreg.coef_)"
   ]
  },
  {
   "cell_type": "code",
   "execution_count": 30,
   "id": "72ccc671",
   "metadata": {},
   "outputs": [
    {
     "data": {
      "text/plain": [
       "array([[ 6.7899804 ],\n",
       "       [11.24304324],\n",
       "       [ 4.91216528],\n",
       "       [ 4.82632126],\n",
       "       [ 6.80783088],\n",
       "       [ 8.95388208],\n",
       "       [ 7.86705168],\n",
       "       [11.4284624 ],\n",
       "       [ 8.06655882],\n",
       "       [12.12016115],\n",
       "       [13.4000469 ],\n",
       "       [ 8.90274898],\n",
       "       [11.74706964],\n",
       "       [13.97493339],\n",
       "       [ 9.21201268],\n",
       "       [15.11916565],\n",
       "       [ 7.65454143],\n",
       "       [10.54400351],\n",
       "       [ 9.05622202],\n",
       "       [15.21911194],\n",
       "       [ 8.75002485],\n",
       "       [13.69937638],\n",
       "       [10.02307053],\n",
       "       [ 8.0075684 ],\n",
       "       [10.33390946],\n",
       "       [11.35988726],\n",
       "       [ 6.27113857],\n",
       "       [12.18351473],\n",
       "       [ 8.20555818],\n",
       "       [11.44152389],\n",
       "       [ 6.78569585],\n",
       "       [ 6.20131708],\n",
       "       [ 8.71792485],\n",
       "       [ 8.80611198],\n",
       "       [ 8.85461051],\n",
       "       [10.39841055],\n",
       "       [12.95850373],\n",
       "       [ 7.74159046],\n",
       "       [17.77288249],\n",
       "       [15.22090995],\n",
       "       [ 7.66184635],\n",
       "       [ 8.11450603],\n",
       "       [11.2048614 ],\n",
       "       [ 6.13472848],\n",
       "       [14.88156987],\n",
       "       [ 9.10578909],\n",
       "       [ 7.16377104],\n",
       "       [10.16809677],\n",
       "       [12.50193693],\n",
       "       [11.73018451],\n",
       "       [ 7.71275257],\n",
       "       [ 7.80063417],\n",
       "       [17.97861123],\n",
       "       [ 8.06895471],\n",
       "       [ 7.32126771],\n",
       "       [15.63577456]])"
      ]
     },
     "execution_count": 30,
     "metadata": {},
     "output_type": "execute_result"
    }
   ],
   "source": [
    "linreg.predict(X_test)"
   ]
  },
  {
   "cell_type": "code",
   "execution_count": 24,
   "id": "606f704a",
   "metadata": {},
   "outputs": [],
   "source": [
    "from sklearn.linear_model import LogisticRegression\n",
    "logreg = LogisticRegression()"
   ]
  },
  {
   "cell_type": "code",
   "execution_count": 28,
   "id": "65621687",
   "metadata": {},
   "outputs": [
    {
     "data": {
      "text/html": [
       "<div>\n",
       "<style scoped>\n",
       "    .dataframe tbody tr th:only-of-type {\n",
       "        vertical-align: middle;\n",
       "    }\n",
       "\n",
       "    .dataframe tbody tr th {\n",
       "        vertical-align: top;\n",
       "    }\n",
       "\n",
       "    .dataframe thead th {\n",
       "        text-align: right;\n",
       "    }\n",
       "</style>\n",
       "<table border=\"1\" class=\"dataframe\">\n",
       "  <thead>\n",
       "    <tr style=\"text-align: right;\">\n",
       "      <th></th>\n",
       "      <th>Age</th>\n",
       "      <th>Sex</th>\n",
       "      <th>BMI</th>\n",
       "      <th>GX AT VO2 (mL/kg/min)</th>\n",
       "      <th>GX AT VE/VCO2</th>\n",
       "      <th>GX VO2 Max VO2 (mL/kg/min)</th>\n",
       "      <th>GX VO2 Max VO2/Pred (%)</th>\n",
       "      <th>GX VO2 Max VO2/HR (mL/beat)</th>\n",
       "      <th>GX Predicted VO2/HR (mL/beat)</th>\n",
       "      <th>GX Work Max Work (Watts)</th>\n",
       "      <th>GX Predicted Work (Watts)</th>\n",
       "      <th>PF Pre FEV1/FVC (%)</th>\n",
       "      <th>Side</th>\n",
       "      <th>LOS</th>\n",
       "      <th>LOSbin</th>\n",
       "    </tr>\n",
       "  </thead>\n",
       "  <tbody>\n",
       "    <tr>\n",
       "      <th>0</th>\n",
       "      <td>66.0</td>\n",
       "      <td>1.0</td>\n",
       "      <td>26.0</td>\n",
       "      <td>7.4</td>\n",
       "      <td>39.0</td>\n",
       "      <td>9.8</td>\n",
       "      <td>31.0</td>\n",
       "      <td>8.0</td>\n",
       "      <td>15.0</td>\n",
       "      <td>30.0</td>\n",
       "      <td>175.0</td>\n",
       "      <td>57.0</td>\n",
       "      <td>0.0</td>\n",
       "      <td>1.0</td>\n",
       "      <td>0.0</td>\n",
       "    </tr>\n",
       "    <tr>\n",
       "      <th>1</th>\n",
       "      <td>68.0</td>\n",
       "      <td>1.0</td>\n",
       "      <td>24.0</td>\n",
       "      <td>15.3</td>\n",
       "      <td>29.0</td>\n",
       "      <td>24.8</td>\n",
       "      <td>79.0</td>\n",
       "      <td>17.0</td>\n",
       "      <td>16.0</td>\n",
       "      <td>111.0</td>\n",
       "      <td>177.0</td>\n",
       "      <td>80.0</td>\n",
       "      <td>0.0</td>\n",
       "      <td>13.0</td>\n",
       "      <td>1.0</td>\n",
       "    </tr>\n",
       "    <tr>\n",
       "      <th>2</th>\n",
       "      <td>77.0</td>\n",
       "      <td>0.0</td>\n",
       "      <td>25.0</td>\n",
       "      <td>8.2</td>\n",
       "      <td>47.0</td>\n",
       "      <td>9.2</td>\n",
       "      <td>47.0</td>\n",
       "      <td>7.0</td>\n",
       "      <td>9.0</td>\n",
       "      <td>117.0</td>\n",
       "      <td>76.0</td>\n",
       "      <td>71.0</td>\n",
       "      <td>1.0</td>\n",
       "      <td>8.0</td>\n",
       "      <td>1.0</td>\n",
       "    </tr>\n",
       "    <tr>\n",
       "      <th>3</th>\n",
       "      <td>81.0</td>\n",
       "      <td>0.0</td>\n",
       "      <td>24.0</td>\n",
       "      <td>7.5</td>\n",
       "      <td>24.0</td>\n",
       "      <td>15.5</td>\n",
       "      <td>87.0</td>\n",
       "      <td>7.0</td>\n",
       "      <td>8.0</td>\n",
       "      <td>59.0</td>\n",
       "      <td>57.0</td>\n",
       "      <td>80.0</td>\n",
       "      <td>0.0</td>\n",
       "      <td>4.0</td>\n",
       "      <td>0.0</td>\n",
       "    </tr>\n",
       "    <tr>\n",
       "      <th>4</th>\n",
       "      <td>69.0</td>\n",
       "      <td>0.0</td>\n",
       "      <td>34.0</td>\n",
       "      <td>6.5</td>\n",
       "      <td>32.0</td>\n",
       "      <td>11.4</td>\n",
       "      <td>77.0</td>\n",
       "      <td>8.0</td>\n",
       "      <td>9.0</td>\n",
       "      <td>59.0</td>\n",
       "      <td>65.0</td>\n",
       "      <td>63.0</td>\n",
       "      <td>0.0</td>\n",
       "      <td>8.0</td>\n",
       "      <td>1.0</td>\n",
       "    </tr>\n",
       "  </tbody>\n",
       "</table>\n",
       "</div>"
      ],
      "text/plain": [
       "    Age  Sex   BMI  GX AT VO2 (mL/kg/min)  GX AT VE/VCO2  \\\n",
       "0  66.0  1.0  26.0                    7.4           39.0   \n",
       "1  68.0  1.0  24.0                   15.3           29.0   \n",
       "2  77.0  0.0  25.0                    8.2           47.0   \n",
       "3  81.0  0.0  24.0                    7.5           24.0   \n",
       "4  69.0  0.0  34.0                    6.5           32.0   \n",
       "\n",
       "   GX VO2 Max VO2 (mL/kg/min)  GX VO2 Max VO2/Pred (%)  \\\n",
       "0                         9.8                     31.0   \n",
       "1                        24.8                     79.0   \n",
       "2                         9.2                     47.0   \n",
       "3                        15.5                     87.0   \n",
       "4                        11.4                     77.0   \n",
       "\n",
       "   GX VO2 Max VO2/HR (mL/beat)  GX Predicted VO2/HR (mL/beat)  \\\n",
       "0                          8.0                           15.0   \n",
       "1                         17.0                           16.0   \n",
       "2                          7.0                            9.0   \n",
       "3                          7.0                            8.0   \n",
       "4                          8.0                            9.0   \n",
       "\n",
       "   GX Work Max Work (Watts)  GX Predicted Work (Watts)  PF Pre FEV1/FVC (%)  \\\n",
       "0                      30.0                      175.0                 57.0   \n",
       "1                     111.0                      177.0                 80.0   \n",
       "2                     117.0                       76.0                 71.0   \n",
       "3                      59.0                       57.0                 80.0   \n",
       "4                      59.0                       65.0                 63.0   \n",
       "\n",
       "   Side   LOS  LOSbin  \n",
       "0   0.0   1.0     0.0  \n",
       "1   0.0  13.0     1.0  \n",
       "2   1.0   8.0     1.0  \n",
       "3   0.0   4.0     0.0  \n",
       "4   0.0   8.0     1.0  "
      ]
     },
     "execution_count": 28,
     "metadata": {},
     "output_type": "execute_result"
    }
   ],
   "source": [
    "X3 = data[['Age','Sex','BMI','GX AT VO2 (mL/kg/min)','GX AT VE/VCO2','GX VO2 Max VO2 (mL/kg/min)','GX VO2 Max VO2/Pred (%)','GX VO2 Max VO2/HR (mL/beat)','GX Predicted VO2/HR (mL/beat)','GX Work Max Work (Watts)','GX Predicted Work (Watts)','PF Pre FEV1/FVC (%)','PF Pre FEV1 (L)','Side','pred mort','LOS']]\n",
    "X3.head()"
   ]
  },
  {
   "cell_type": "code",
   "execution_count": 30,
   "id": "8de37b32",
   "metadata": {},
   "outputs": [],
   "source": [
    "X4 = X3.dropna(axis=0)"
   ]
  },
  {
   "cell_type": "code",
   "execution_count": 31,
   "id": "dbbbf34f",
   "metadata": {},
   "outputs": [
    {
     "data": {
      "text/plain": [
       "(233, 15)"
      ]
     },
     "execution_count": 31,
     "metadata": {},
     "output_type": "execute_result"
    }
   ],
   "source": [
    "X4.shape"
   ]
  },
  {
   "cell_type": "code",
   "execution_count": 32,
   "id": "7942e767",
   "metadata": {},
   "outputs": [],
   "source": [
    "X5 = X4[['LOS','LOSbin']]"
   ]
  },
  {
   "cell_type": "code",
   "execution_count": 34,
   "id": "93f8330b",
   "metadata": {},
   "outputs": [],
   "source": [
    "X6 = X5[['LOS']]\n",
    "y6 = X5[['LOSbin']]"
   ]
  },
  {
   "cell_type": "code",
   "execution_count": 37,
   "id": "9a0ef10a",
   "metadata": {},
   "outputs": [],
   "source": [
    "X6_train, X6_test, y6_train, y6_test = train_test_split(X6, y6, random_state=1)"
   ]
  },
  {
   "cell_type": "code",
   "execution_count": 40,
   "id": "a9d54103",
   "metadata": {},
   "outputs": [
    {
     "data": {
      "text/plain": [
       "(174, 1)"
      ]
     },
     "execution_count": 40,
     "metadata": {},
     "output_type": "execute_result"
    }
   ],
   "source": [
    "X6_train.shape"
   ]
  },
  {
   "cell_type": "code",
   "execution_count": 50,
   "id": "2f6a2b2c",
   "metadata": {},
   "outputs": [],
   "source": [
    "y6_train = np.array(y6_train).reshape(-1)"
   ]
  },
  {
   "cell_type": "code",
   "execution_count": 52,
   "id": "fb60916b",
   "metadata": {},
   "outputs": [
    {
     "data": {
      "text/html": [
       "<style>#sk-container-id-5 {color: black;background-color: white;}#sk-container-id-5 pre{padding: 0;}#sk-container-id-5 div.sk-toggleable {background-color: white;}#sk-container-id-5 label.sk-toggleable__label {cursor: pointer;display: block;width: 100%;margin-bottom: 0;padding: 0.3em;box-sizing: border-box;text-align: center;}#sk-container-id-5 label.sk-toggleable__label-arrow:before {content: \"▸\";float: left;margin-right: 0.25em;color: #696969;}#sk-container-id-5 label.sk-toggleable__label-arrow:hover:before {color: black;}#sk-container-id-5 div.sk-estimator:hover label.sk-toggleable__label-arrow:before {color: black;}#sk-container-id-5 div.sk-toggleable__content {max-height: 0;max-width: 0;overflow: hidden;text-align: left;background-color: #f0f8ff;}#sk-container-id-5 div.sk-toggleable__content pre {margin: 0.2em;color: black;border-radius: 0.25em;background-color: #f0f8ff;}#sk-container-id-5 input.sk-toggleable__control:checked~div.sk-toggleable__content {max-height: 200px;max-width: 100%;overflow: auto;}#sk-container-id-5 input.sk-toggleable__control:checked~label.sk-toggleable__label-arrow:before {content: \"▾\";}#sk-container-id-5 div.sk-estimator input.sk-toggleable__control:checked~label.sk-toggleable__label {background-color: #d4ebff;}#sk-container-id-5 div.sk-label input.sk-toggleable__control:checked~label.sk-toggleable__label {background-color: #d4ebff;}#sk-container-id-5 input.sk-hidden--visually {border: 0;clip: rect(1px 1px 1px 1px);clip: rect(1px, 1px, 1px, 1px);height: 1px;margin: -1px;overflow: hidden;padding: 0;position: absolute;width: 1px;}#sk-container-id-5 div.sk-estimator {font-family: monospace;background-color: #f0f8ff;border: 1px dotted black;border-radius: 0.25em;box-sizing: border-box;margin-bottom: 0.5em;}#sk-container-id-5 div.sk-estimator:hover {background-color: #d4ebff;}#sk-container-id-5 div.sk-parallel-item::after {content: \"\";width: 100%;border-bottom: 1px solid gray;flex-grow: 1;}#sk-container-id-5 div.sk-label:hover label.sk-toggleable__label {background-color: #d4ebff;}#sk-container-id-5 div.sk-serial::before {content: \"\";position: absolute;border-left: 1px solid gray;box-sizing: border-box;top: 0;bottom: 0;left: 50%;z-index: 0;}#sk-container-id-5 div.sk-serial {display: flex;flex-direction: column;align-items: center;background-color: white;padding-right: 0.2em;padding-left: 0.2em;position: relative;}#sk-container-id-5 div.sk-item {position: relative;z-index: 1;}#sk-container-id-5 div.sk-parallel {display: flex;align-items: stretch;justify-content: center;background-color: white;position: relative;}#sk-container-id-5 div.sk-item::before, #sk-container-id-5 div.sk-parallel-item::before {content: \"\";position: absolute;border-left: 1px solid gray;box-sizing: border-box;top: 0;bottom: 0;left: 50%;z-index: -1;}#sk-container-id-5 div.sk-parallel-item {display: flex;flex-direction: column;z-index: 1;position: relative;background-color: white;}#sk-container-id-5 div.sk-parallel-item:first-child::after {align-self: flex-end;width: 50%;}#sk-container-id-5 div.sk-parallel-item:last-child::after {align-self: flex-start;width: 50%;}#sk-container-id-5 div.sk-parallel-item:only-child::after {width: 0;}#sk-container-id-5 div.sk-dashed-wrapped {border: 1px dashed gray;margin: 0 0.4em 0.5em 0.4em;box-sizing: border-box;padding-bottom: 0.4em;background-color: white;}#sk-container-id-5 div.sk-label label {font-family: monospace;font-weight: bold;display: inline-block;line-height: 1.2em;}#sk-container-id-5 div.sk-label-container {text-align: center;}#sk-container-id-5 div.sk-container {/* jupyter's `normalize.less` sets `[hidden] { display: none; }` but bootstrap.min.css set `[hidden] { display: none !important; }` so we also need the `!important` here to be able to override the default hidden behavior on the sphinx rendered scikit-learn.org. See: https://github.com/scikit-learn/scikit-learn/issues/21755 */display: inline-block !important;position: relative;}#sk-container-id-5 div.sk-text-repr-fallback {display: none;}</style><div id=\"sk-container-id-5\" class=\"sk-top-container\"><div class=\"sk-text-repr-fallback\"><pre>LogisticRegression()</pre><b>In a Jupyter environment, please rerun this cell to show the HTML representation or trust the notebook. <br />On GitHub, the HTML representation is unable to render, please try loading this page with nbviewer.org.</b></div><div class=\"sk-container\" hidden><div class=\"sk-item\"><div class=\"sk-estimator sk-toggleable\"><input class=\"sk-toggleable__control sk-hidden--visually\" id=\"sk-estimator-id-5\" type=\"checkbox\" checked><label for=\"sk-estimator-id-5\" class=\"sk-toggleable__label sk-toggleable__label-arrow\">LogisticRegression</label><div class=\"sk-toggleable__content\"><pre>LogisticRegression()</pre></div></div></div></div></div>"
      ],
      "text/plain": [
       "LogisticRegression()"
      ]
     },
     "execution_count": 52,
     "metadata": {},
     "output_type": "execute_result"
    }
   ],
   "source": [
    "logreg.fit(X6_train,y6_train)"
   ]
  },
  {
   "cell_type": "code",
   "execution_count": 54,
   "id": "ad9d26cc",
   "metadata": {},
   "outputs": [
    {
     "name": "stdout",
     "output_type": "stream",
     "text": [
      "LogisticRegression()\n"
     ]
    }
   ],
   "source": [
    "print(logreg)"
   ]
  },
  {
   "cell_type": "code",
   "execution_count": 55,
   "id": "b2c42b6d",
   "metadata": {},
   "outputs": [],
   "source": [
    "predicted_value = logreg.predict(X6_test)"
   ]
  },
  {
   "cell_type": "code",
   "execution_count": 56,
   "id": "9cc45ebd",
   "metadata": {},
   "outputs": [
    {
     "data": {
      "text/plain": [
       "array([1., 1., 0., 1., 0., 0., 1., 1., 0., 0., 1., 1., 0., 0., 0., 1., 1.,\n",
       "       0., 0., 1., 0., 0., 0., 1., 0., 0., 1., 1., 0., 1., 0., 1., 1., 0.,\n",
       "       0., 0., 1., 0., 1., 0., 0., 0., 0., 1., 1., 1., 0., 1., 0., 0., 0.,\n",
       "       0., 1., 1., 0., 1., 1., 1., 0.])"
      ]
     },
     "execution_count": 56,
     "metadata": {},
     "output_type": "execute_result"
    }
   ],
   "source": [
    "predicted_value"
   ]
  },
  {
   "cell_type": "code",
   "execution_count": 60,
   "id": "7eba98ee",
   "metadata": {},
   "outputs": [],
   "source": [
    "expected = np.array(y6_test).reshape(-1)"
   ]
  },
  {
   "cell_type": "code",
   "execution_count": 61,
   "id": "3daa9dc4",
   "metadata": {},
   "outputs": [],
   "source": [
    "from sklearn import metrics"
   ]
  },
  {
   "cell_type": "code",
   "execution_count": null,
   "id": "3af693d6",
   "metadata": {},
   "outputs": [],
   "source": []
  }
 ],
 "metadata": {
  "kernelspec": {
   "display_name": "Python 3 (ipykernel)",
   "language": "python",
   "name": "python3"
  },
  "language_info": {
   "codemirror_mode": {
    "name": "ipython",
    "version": 3
   },
   "file_extension": ".py",
   "mimetype": "text/x-python",
   "name": "python",
   "nbconvert_exporter": "python",
   "pygments_lexer": "ipython3",
   "version": "3.8.10"
  }
 },
 "nbformat": 4,
 "nbformat_minor": 5
}
